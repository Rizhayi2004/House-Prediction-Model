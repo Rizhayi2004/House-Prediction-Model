{
 "cells": [
  {
   "cell_type": "markdown",
   "id": "37bdf753",
   "metadata": {},
   "source": [
    "## HOUSE PRICE PREDICTION"
   ]
  },
  {
   "cell_type": "code",
   "execution_count": 3,
   "id": "7755b4d0",
   "metadata": {},
   "outputs": [
    {
     "data": {
      "application/vnd.microsoft.datawrangler.viewer.v0+json": {
       "columns": [
        {
         "name": "index",
         "rawType": "int64",
         "type": "integer"
        },
        {
         "name": "longitude",
         "rawType": "float64",
         "type": "float"
        },
        {
         "name": "latitude",
         "rawType": "float64",
         "type": "float"
        },
        {
         "name": "housing_median_age",
         "rawType": "float64",
         "type": "float"
        },
        {
         "name": "total_rooms",
         "rawType": "float64",
         "type": "float"
        },
        {
         "name": "total_bedrooms",
         "rawType": "float64",
         "type": "float"
        },
        {
         "name": "population",
         "rawType": "float64",
         "type": "float"
        },
        {
         "name": "households",
         "rawType": "float64",
         "type": "float"
        },
        {
         "name": "median_income",
         "rawType": "float64",
         "type": "float"
        },
        {
         "name": "median_house_value",
         "rawType": "float64",
         "type": "float"
        },
        {
         "name": "ocean_proximity",
         "rawType": "object",
         "type": "string"
        }
       ],
       "ref": "52896271-d11c-4cf8-833c-4cd0cf650a79",
       "rows": [
        [
         "0",
         "-122.23",
         "37.88",
         "41.0",
         "880.0",
         "129.0",
         "322.0",
         "126.0",
         "8.3252",
         "452600.0",
         "NEAR BAY"
        ],
        [
         "1",
         "-122.22",
         "37.86",
         "21.0",
         "7099.0",
         "1106.0",
         "2401.0",
         "1138.0",
         "8.3014",
         "358500.0",
         "NEAR BAY"
        ],
        [
         "2",
         "-122.24",
         "37.85",
         "52.0",
         "1467.0",
         "190.0",
         "496.0",
         "177.0",
         "7.2574",
         "352100.0",
         "NEAR BAY"
        ],
        [
         "3",
         "-122.25",
         "37.85",
         "52.0",
         "1274.0",
         "235.0",
         "558.0",
         "219.0",
         "5.6431",
         "341300.0",
         "NEAR BAY"
        ],
        [
         "4",
         "-122.25",
         "37.85",
         "52.0",
         "1627.0",
         "280.0",
         "565.0",
         "259.0",
         "3.8462",
         "342200.0",
         "NEAR BAY"
        ],
        [
         "5",
         "-122.25",
         "37.85",
         "52.0",
         "919.0",
         "213.0",
         "413.0",
         "193.0",
         "4.0368",
         "269700.0",
         "NEAR BAY"
        ],
        [
         "6",
         "-122.25",
         "37.84",
         "52.0",
         "2535.0",
         "489.0",
         "1094.0",
         "514.0",
         "3.6591",
         "299200.0",
         "NEAR BAY"
        ],
        [
         "7",
         "-122.25",
         "37.84",
         "52.0",
         "3104.0",
         "687.0",
         "1157.0",
         "647.0",
         "3.12",
         "241400.0",
         "NEAR BAY"
        ],
        [
         "8",
         "-122.26",
         "37.84",
         "42.0",
         "2555.0",
         "665.0",
         "1206.0",
         "595.0",
         "2.0804",
         "226700.0",
         "NEAR BAY"
        ],
        [
         "9",
         "-122.25",
         "37.84",
         "52.0",
         "3549.0",
         "707.0",
         "1551.0",
         "714.0",
         "3.6912",
         "261100.0",
         "NEAR BAY"
        ],
        [
         "10",
         "-122.26",
         "37.85",
         "52.0",
         "2202.0",
         "434.0",
         "910.0",
         "402.0",
         "3.2031",
         "281500.0",
         "NEAR BAY"
        ],
        [
         "11",
         "-122.26",
         "37.85",
         "52.0",
         "3503.0",
         "752.0",
         "1504.0",
         "734.0",
         "3.2705",
         "241800.0",
         "NEAR BAY"
        ],
        [
         "12",
         "-122.26",
         "37.85",
         "52.0",
         "2491.0",
         "474.0",
         "1098.0",
         "468.0",
         "3.075",
         "213500.0",
         "NEAR BAY"
        ],
        [
         "13",
         "-122.26",
         "37.84",
         "52.0",
         "696.0",
         "191.0",
         "345.0",
         "174.0",
         "2.6736",
         "191300.0",
         "NEAR BAY"
        ],
        [
         "14",
         "-122.26",
         "37.85",
         "52.0",
         "2643.0",
         "626.0",
         "1212.0",
         "620.0",
         "1.9167",
         "159200.0",
         "NEAR BAY"
        ],
        [
         "15",
         "-122.26",
         "37.85",
         "50.0",
         "1120.0",
         "283.0",
         "697.0",
         "264.0",
         "2.125",
         "140000.0",
         "NEAR BAY"
        ],
        [
         "16",
         "-122.27",
         "37.85",
         "52.0",
         "1966.0",
         "347.0",
         "793.0",
         "331.0",
         "2.775",
         "152500.0",
         "NEAR BAY"
        ],
        [
         "17",
         "-122.27",
         "37.85",
         "52.0",
         "1228.0",
         "293.0",
         "648.0",
         "303.0",
         "2.1202",
         "155500.0",
         "NEAR BAY"
        ],
        [
         "18",
         "-122.26",
         "37.84",
         "50.0",
         "2239.0",
         "455.0",
         "990.0",
         "419.0",
         "1.9911",
         "158700.0",
         "NEAR BAY"
        ],
        [
         "19",
         "-122.27",
         "37.84",
         "52.0",
         "1503.0",
         "298.0",
         "690.0",
         "275.0",
         "2.6033",
         "162900.0",
         "NEAR BAY"
        ],
        [
         "20",
         "-122.27",
         "37.85",
         "40.0",
         "751.0",
         "184.0",
         "409.0",
         "166.0",
         "1.3578",
         "147500.0",
         "NEAR BAY"
        ],
        [
         "21",
         "-122.27",
         "37.85",
         "42.0",
         "1639.0",
         "367.0",
         "929.0",
         "366.0",
         "1.7135",
         "159800.0",
         "NEAR BAY"
        ],
        [
         "22",
         "-122.27",
         "37.84",
         "52.0",
         "2436.0",
         "541.0",
         "1015.0",
         "478.0",
         "1.725",
         "113900.0",
         "NEAR BAY"
        ],
        [
         "23",
         "-122.27",
         "37.84",
         "52.0",
         "1688.0",
         "337.0",
         "853.0",
         "325.0",
         "2.1806",
         "99700.0",
         "NEAR BAY"
        ],
        [
         "24",
         "-122.27",
         "37.84",
         "52.0",
         "2224.0",
         "437.0",
         "1006.0",
         "422.0",
         "2.6",
         "132600.0",
         "NEAR BAY"
        ],
        [
         "25",
         "-122.28",
         "37.85",
         "41.0",
         "535.0",
         "123.0",
         "317.0",
         "119.0",
         "2.4038",
         "107500.0",
         "NEAR BAY"
        ],
        [
         "26",
         "-122.28",
         "37.85",
         "49.0",
         "1130.0",
         "244.0",
         "607.0",
         "239.0",
         "2.4597",
         "93800.0",
         "NEAR BAY"
        ],
        [
         "27",
         "-122.28",
         "37.85",
         "52.0",
         "1898.0",
         "421.0",
         "1102.0",
         "397.0",
         "1.808",
         "105500.0",
         "NEAR BAY"
        ],
        [
         "28",
         "-122.28",
         "37.84",
         "50.0",
         "2082.0",
         "492.0",
         "1131.0",
         "473.0",
         "1.6424",
         "108900.0",
         "NEAR BAY"
        ],
        [
         "29",
         "-122.28",
         "37.84",
         "52.0",
         "729.0",
         "160.0",
         "395.0",
         "155.0",
         "1.6875",
         "132000.0",
         "NEAR BAY"
        ],
        [
         "30",
         "-122.28",
         "37.84",
         "49.0",
         "1916.0",
         "447.0",
         "863.0",
         "378.0",
         "1.9274",
         "122300.0",
         "NEAR BAY"
        ],
        [
         "31",
         "-122.28",
         "37.84",
         "52.0",
         "2153.0",
         "481.0",
         "1168.0",
         "441.0",
         "1.9615",
         "115200.0",
         "NEAR BAY"
        ],
        [
         "32",
         "-122.27",
         "37.84",
         "48.0",
         "1922.0",
         "409.0",
         "1026.0",
         "335.0",
         "1.7969",
         "110400.0",
         "NEAR BAY"
        ],
        [
         "33",
         "-122.27",
         "37.83",
         "49.0",
         "1655.0",
         "366.0",
         "754.0",
         "329.0",
         "1.375",
         "104900.0",
         "NEAR BAY"
        ],
        [
         "34",
         "-122.27",
         "37.83",
         "51.0",
         "2665.0",
         "574.0",
         "1258.0",
         "536.0",
         "2.7303",
         "109700.0",
         "NEAR BAY"
        ],
        [
         "35",
         "-122.27",
         "37.83",
         "49.0",
         "1215.0",
         "282.0",
         "570.0",
         "264.0",
         "1.4861",
         "97200.0",
         "NEAR BAY"
        ],
        [
         "36",
         "-122.27",
         "37.83",
         "48.0",
         "1798.0",
         "432.0",
         "987.0",
         "374.0",
         "1.0972",
         "104500.0",
         "NEAR BAY"
        ],
        [
         "37",
         "-122.28",
         "37.83",
         "52.0",
         "1511.0",
         "390.0",
         "901.0",
         "403.0",
         "1.4103",
         "103900.0",
         "NEAR BAY"
        ],
        [
         "38",
         "-122.26",
         "37.83",
         "52.0",
         "1470.0",
         "330.0",
         "689.0",
         "309.0",
         "3.48",
         "191400.0",
         "NEAR BAY"
        ],
        [
         "39",
         "-122.26",
         "37.83",
         "52.0",
         "2432.0",
         "715.0",
         "1377.0",
         "696.0",
         "2.5898",
         "176000.0",
         "NEAR BAY"
        ],
        [
         "40",
         "-122.26",
         "37.83",
         "52.0",
         "1665.0",
         "419.0",
         "946.0",
         "395.0",
         "2.0978",
         "155400.0",
         "NEAR BAY"
        ],
        [
         "41",
         "-122.26",
         "37.83",
         "51.0",
         "936.0",
         "311.0",
         "517.0",
         "249.0",
         "1.2852",
         "150000.0",
         "NEAR BAY"
        ],
        [
         "42",
         "-122.26",
         "37.84",
         "49.0",
         "713.0",
         "202.0",
         "462.0",
         "189.0",
         "1.025",
         "118800.0",
         "NEAR BAY"
        ],
        [
         "43",
         "-122.26",
         "37.84",
         "52.0",
         "950.0",
         "202.0",
         "467.0",
         "198.0",
         "3.9643",
         "188800.0",
         "NEAR BAY"
        ],
        [
         "44",
         "-122.26",
         "37.83",
         "52.0",
         "1443.0",
         "311.0",
         "660.0",
         "292.0",
         "3.0125",
         "184400.0",
         "NEAR BAY"
        ],
        [
         "45",
         "-122.26",
         "37.83",
         "52.0",
         "1656.0",
         "420.0",
         "718.0",
         "382.0",
         "2.6768",
         "182300.0",
         "NEAR BAY"
        ],
        [
         "46",
         "-122.26",
         "37.83",
         "50.0",
         "1125.0",
         "322.0",
         "616.0",
         "304.0",
         "2.026",
         "142500.0",
         "NEAR BAY"
        ],
        [
         "47",
         "-122.27",
         "37.82",
         "43.0",
         "1007.0",
         "312.0",
         "558.0",
         "253.0",
         "1.7348",
         "137500.0",
         "NEAR BAY"
        ],
        [
         "48",
         "-122.26",
         "37.82",
         "40.0",
         "624.0",
         "195.0",
         "423.0",
         "160.0",
         "0.9506",
         "187500.0",
         "NEAR BAY"
        ],
        [
         "49",
         "-122.27",
         "37.82",
         "40.0",
         "946.0",
         "375.0",
         "700.0",
         "352.0",
         "1.775",
         "112500.0",
         "NEAR BAY"
        ]
       ],
       "shape": {
        "columns": 10,
        "rows": 20640
       }
      },
      "text/html": [
       "<div>\n",
       "<style scoped>\n",
       "    .dataframe tbody tr th:only-of-type {\n",
       "        vertical-align: middle;\n",
       "    }\n",
       "\n",
       "    .dataframe tbody tr th {\n",
       "        vertical-align: top;\n",
       "    }\n",
       "\n",
       "    .dataframe thead th {\n",
       "        text-align: right;\n",
       "    }\n",
       "</style>\n",
       "<table border=\"1\" class=\"dataframe\">\n",
       "  <thead>\n",
       "    <tr style=\"text-align: right;\">\n",
       "      <th></th>\n",
       "      <th>longitude</th>\n",
       "      <th>latitude</th>\n",
       "      <th>housing_median_age</th>\n",
       "      <th>total_rooms</th>\n",
       "      <th>total_bedrooms</th>\n",
       "      <th>population</th>\n",
       "      <th>households</th>\n",
       "      <th>median_income</th>\n",
       "      <th>median_house_value</th>\n",
       "      <th>ocean_proximity</th>\n",
       "    </tr>\n",
       "  </thead>\n",
       "  <tbody>\n",
       "    <tr>\n",
       "      <th>0</th>\n",
       "      <td>-122.23</td>\n",
       "      <td>37.88</td>\n",
       "      <td>41.0</td>\n",
       "      <td>880.0</td>\n",
       "      <td>129.0</td>\n",
       "      <td>322.0</td>\n",
       "      <td>126.0</td>\n",
       "      <td>8.3252</td>\n",
       "      <td>452600.0</td>\n",
       "      <td>NEAR BAY</td>\n",
       "    </tr>\n",
       "    <tr>\n",
       "      <th>1</th>\n",
       "      <td>-122.22</td>\n",
       "      <td>37.86</td>\n",
       "      <td>21.0</td>\n",
       "      <td>7099.0</td>\n",
       "      <td>1106.0</td>\n",
       "      <td>2401.0</td>\n",
       "      <td>1138.0</td>\n",
       "      <td>8.3014</td>\n",
       "      <td>358500.0</td>\n",
       "      <td>NEAR BAY</td>\n",
       "    </tr>\n",
       "    <tr>\n",
       "      <th>2</th>\n",
       "      <td>-122.24</td>\n",
       "      <td>37.85</td>\n",
       "      <td>52.0</td>\n",
       "      <td>1467.0</td>\n",
       "      <td>190.0</td>\n",
       "      <td>496.0</td>\n",
       "      <td>177.0</td>\n",
       "      <td>7.2574</td>\n",
       "      <td>352100.0</td>\n",
       "      <td>NEAR BAY</td>\n",
       "    </tr>\n",
       "    <tr>\n",
       "      <th>3</th>\n",
       "      <td>-122.25</td>\n",
       "      <td>37.85</td>\n",
       "      <td>52.0</td>\n",
       "      <td>1274.0</td>\n",
       "      <td>235.0</td>\n",
       "      <td>558.0</td>\n",
       "      <td>219.0</td>\n",
       "      <td>5.6431</td>\n",
       "      <td>341300.0</td>\n",
       "      <td>NEAR BAY</td>\n",
       "    </tr>\n",
       "    <tr>\n",
       "      <th>4</th>\n",
       "      <td>-122.25</td>\n",
       "      <td>37.85</td>\n",
       "      <td>52.0</td>\n",
       "      <td>1627.0</td>\n",
       "      <td>280.0</td>\n",
       "      <td>565.0</td>\n",
       "      <td>259.0</td>\n",
       "      <td>3.8462</td>\n",
       "      <td>342200.0</td>\n",
       "      <td>NEAR BAY</td>\n",
       "    </tr>\n",
       "    <tr>\n",
       "      <th>...</th>\n",
       "      <td>...</td>\n",
       "      <td>...</td>\n",
       "      <td>...</td>\n",
       "      <td>...</td>\n",
       "      <td>...</td>\n",
       "      <td>...</td>\n",
       "      <td>...</td>\n",
       "      <td>...</td>\n",
       "      <td>...</td>\n",
       "      <td>...</td>\n",
       "    </tr>\n",
       "    <tr>\n",
       "      <th>20635</th>\n",
       "      <td>-121.09</td>\n",
       "      <td>39.48</td>\n",
       "      <td>25.0</td>\n",
       "      <td>1665.0</td>\n",
       "      <td>374.0</td>\n",
       "      <td>845.0</td>\n",
       "      <td>330.0</td>\n",
       "      <td>1.5603</td>\n",
       "      <td>78100.0</td>\n",
       "      <td>INLAND</td>\n",
       "    </tr>\n",
       "    <tr>\n",
       "      <th>20636</th>\n",
       "      <td>-121.21</td>\n",
       "      <td>39.49</td>\n",
       "      <td>18.0</td>\n",
       "      <td>697.0</td>\n",
       "      <td>150.0</td>\n",
       "      <td>356.0</td>\n",
       "      <td>114.0</td>\n",
       "      <td>2.5568</td>\n",
       "      <td>77100.0</td>\n",
       "      <td>INLAND</td>\n",
       "    </tr>\n",
       "    <tr>\n",
       "      <th>20637</th>\n",
       "      <td>-121.22</td>\n",
       "      <td>39.43</td>\n",
       "      <td>17.0</td>\n",
       "      <td>2254.0</td>\n",
       "      <td>485.0</td>\n",
       "      <td>1007.0</td>\n",
       "      <td>433.0</td>\n",
       "      <td>1.7000</td>\n",
       "      <td>92300.0</td>\n",
       "      <td>INLAND</td>\n",
       "    </tr>\n",
       "    <tr>\n",
       "      <th>20638</th>\n",
       "      <td>-121.32</td>\n",
       "      <td>39.43</td>\n",
       "      <td>18.0</td>\n",
       "      <td>1860.0</td>\n",
       "      <td>409.0</td>\n",
       "      <td>741.0</td>\n",
       "      <td>349.0</td>\n",
       "      <td>1.8672</td>\n",
       "      <td>84700.0</td>\n",
       "      <td>INLAND</td>\n",
       "    </tr>\n",
       "    <tr>\n",
       "      <th>20639</th>\n",
       "      <td>-121.24</td>\n",
       "      <td>39.37</td>\n",
       "      <td>16.0</td>\n",
       "      <td>2785.0</td>\n",
       "      <td>616.0</td>\n",
       "      <td>1387.0</td>\n",
       "      <td>530.0</td>\n",
       "      <td>2.3886</td>\n",
       "      <td>89400.0</td>\n",
       "      <td>INLAND</td>\n",
       "    </tr>\n",
       "  </tbody>\n",
       "</table>\n",
       "<p>20640 rows × 10 columns</p>\n",
       "</div>"
      ],
      "text/plain": [
       "       longitude  latitude  housing_median_age  total_rooms  total_bedrooms  \\\n",
       "0        -122.23     37.88                41.0        880.0           129.0   \n",
       "1        -122.22     37.86                21.0       7099.0          1106.0   \n",
       "2        -122.24     37.85                52.0       1467.0           190.0   \n",
       "3        -122.25     37.85                52.0       1274.0           235.0   \n",
       "4        -122.25     37.85                52.0       1627.0           280.0   \n",
       "...          ...       ...                 ...          ...             ...   \n",
       "20635    -121.09     39.48                25.0       1665.0           374.0   \n",
       "20636    -121.21     39.49                18.0        697.0           150.0   \n",
       "20637    -121.22     39.43                17.0       2254.0           485.0   \n",
       "20638    -121.32     39.43                18.0       1860.0           409.0   \n",
       "20639    -121.24     39.37                16.0       2785.0           616.0   \n",
       "\n",
       "       population  households  median_income  median_house_value  \\\n",
       "0           322.0       126.0         8.3252            452600.0   \n",
       "1          2401.0      1138.0         8.3014            358500.0   \n",
       "2           496.0       177.0         7.2574            352100.0   \n",
       "3           558.0       219.0         5.6431            341300.0   \n",
       "4           565.0       259.0         3.8462            342200.0   \n",
       "...           ...         ...            ...                 ...   \n",
       "20635       845.0       330.0         1.5603             78100.0   \n",
       "20636       356.0       114.0         2.5568             77100.0   \n",
       "20637      1007.0       433.0         1.7000             92300.0   \n",
       "20638       741.0       349.0         1.8672             84700.0   \n",
       "20639      1387.0       530.0         2.3886             89400.0   \n",
       "\n",
       "      ocean_proximity  \n",
       "0            NEAR BAY  \n",
       "1            NEAR BAY  \n",
       "2            NEAR BAY  \n",
       "3            NEAR BAY  \n",
       "4            NEAR BAY  \n",
       "...               ...  \n",
       "20635          INLAND  \n",
       "20636          INLAND  \n",
       "20637          INLAND  \n",
       "20638          INLAND  \n",
       "20639          INLAND  \n",
       "\n",
       "[20640 rows x 10 columns]"
      ]
     },
     "execution_count": 3,
     "metadata": {},
     "output_type": "execute_result"
    }
   ],
   "source": [
    "import pandas as pd\n",
    "import numpy as np\n",
    "import matplotlib.pyplot as plt\n",
    "import seaborn as sns\n",
    "\n",
    "\n",
    "df = pd.read_csv(r'C:\\Users\\SIR MARCO\\Desktop\\housing.csv')\n",
    "df"
   ]
  },
  {
   "cell_type": "code",
   "execution_count": 4,
   "id": "4f0689e4",
   "metadata": {},
   "outputs": [
    {
     "data": {
      "application/vnd.microsoft.datawrangler.viewer.v0+json": {
       "columns": [
        {
         "name": "index",
         "rawType": "int64",
         "type": "integer"
        },
        {
         "name": "longitude",
         "rawType": "float64",
         "type": "float"
        },
        {
         "name": "latitude",
         "rawType": "float64",
         "type": "float"
        },
        {
         "name": "housing_median_age",
         "rawType": "float64",
         "type": "float"
        },
        {
         "name": "total_rooms",
         "rawType": "float64",
         "type": "float"
        },
        {
         "name": "total_bedrooms",
         "rawType": "float64",
         "type": "float"
        },
        {
         "name": "population",
         "rawType": "float64",
         "type": "float"
        },
        {
         "name": "households",
         "rawType": "float64",
         "type": "float"
        },
        {
         "name": "median_income",
         "rawType": "float64",
         "type": "float"
        },
        {
         "name": "median_house_value",
         "rawType": "float64",
         "type": "float"
        },
        {
         "name": "ocean_proximity",
         "rawType": "object",
         "type": "string"
        }
       ],
       "ref": "d349d1ca-2c34-488c-8f2b-f63592117732",
       "rows": [
        [
         "0",
         "-122.23",
         "37.88",
         "41.0",
         "880.0",
         "129.0",
         "322.0",
         "126.0",
         "8.3252",
         "452600.0",
         "NEAR BAY"
        ],
        [
         "1",
         "-122.22",
         "37.86",
         "21.0",
         "7099.0",
         "1106.0",
         "2401.0",
         "1138.0",
         "8.3014",
         "358500.0",
         "NEAR BAY"
        ],
        [
         "2",
         "-122.24",
         "37.85",
         "52.0",
         "1467.0",
         "190.0",
         "496.0",
         "177.0",
         "7.2574",
         "352100.0",
         "NEAR BAY"
        ],
        [
         "3",
         "-122.25",
         "37.85",
         "52.0",
         "1274.0",
         "235.0",
         "558.0",
         "219.0",
         "5.6431",
         "341300.0",
         "NEAR BAY"
        ],
        [
         "4",
         "-122.25",
         "37.85",
         "52.0",
         "1627.0",
         "280.0",
         "565.0",
         "259.0",
         "3.8462",
         "342200.0",
         "NEAR BAY"
        ]
       ],
       "shape": {
        "columns": 10,
        "rows": 5
       }
      },
      "text/html": [
       "<div>\n",
       "<style scoped>\n",
       "    .dataframe tbody tr th:only-of-type {\n",
       "        vertical-align: middle;\n",
       "    }\n",
       "\n",
       "    .dataframe tbody tr th {\n",
       "        vertical-align: top;\n",
       "    }\n",
       "\n",
       "    .dataframe thead th {\n",
       "        text-align: right;\n",
       "    }\n",
       "</style>\n",
       "<table border=\"1\" class=\"dataframe\">\n",
       "  <thead>\n",
       "    <tr style=\"text-align: right;\">\n",
       "      <th></th>\n",
       "      <th>longitude</th>\n",
       "      <th>latitude</th>\n",
       "      <th>housing_median_age</th>\n",
       "      <th>total_rooms</th>\n",
       "      <th>total_bedrooms</th>\n",
       "      <th>population</th>\n",
       "      <th>households</th>\n",
       "      <th>median_income</th>\n",
       "      <th>median_house_value</th>\n",
       "      <th>ocean_proximity</th>\n",
       "    </tr>\n",
       "  </thead>\n",
       "  <tbody>\n",
       "    <tr>\n",
       "      <th>0</th>\n",
       "      <td>-122.23</td>\n",
       "      <td>37.88</td>\n",
       "      <td>41.0</td>\n",
       "      <td>880.0</td>\n",
       "      <td>129.0</td>\n",
       "      <td>322.0</td>\n",
       "      <td>126.0</td>\n",
       "      <td>8.3252</td>\n",
       "      <td>452600.0</td>\n",
       "      <td>NEAR BAY</td>\n",
       "    </tr>\n",
       "    <tr>\n",
       "      <th>1</th>\n",
       "      <td>-122.22</td>\n",
       "      <td>37.86</td>\n",
       "      <td>21.0</td>\n",
       "      <td>7099.0</td>\n",
       "      <td>1106.0</td>\n",
       "      <td>2401.0</td>\n",
       "      <td>1138.0</td>\n",
       "      <td>8.3014</td>\n",
       "      <td>358500.0</td>\n",
       "      <td>NEAR BAY</td>\n",
       "    </tr>\n",
       "    <tr>\n",
       "      <th>2</th>\n",
       "      <td>-122.24</td>\n",
       "      <td>37.85</td>\n",
       "      <td>52.0</td>\n",
       "      <td>1467.0</td>\n",
       "      <td>190.0</td>\n",
       "      <td>496.0</td>\n",
       "      <td>177.0</td>\n",
       "      <td>7.2574</td>\n",
       "      <td>352100.0</td>\n",
       "      <td>NEAR BAY</td>\n",
       "    </tr>\n",
       "    <tr>\n",
       "      <th>3</th>\n",
       "      <td>-122.25</td>\n",
       "      <td>37.85</td>\n",
       "      <td>52.0</td>\n",
       "      <td>1274.0</td>\n",
       "      <td>235.0</td>\n",
       "      <td>558.0</td>\n",
       "      <td>219.0</td>\n",
       "      <td>5.6431</td>\n",
       "      <td>341300.0</td>\n",
       "      <td>NEAR BAY</td>\n",
       "    </tr>\n",
       "    <tr>\n",
       "      <th>4</th>\n",
       "      <td>-122.25</td>\n",
       "      <td>37.85</td>\n",
       "      <td>52.0</td>\n",
       "      <td>1627.0</td>\n",
       "      <td>280.0</td>\n",
       "      <td>565.0</td>\n",
       "      <td>259.0</td>\n",
       "      <td>3.8462</td>\n",
       "      <td>342200.0</td>\n",
       "      <td>NEAR BAY</td>\n",
       "    </tr>\n",
       "  </tbody>\n",
       "</table>\n",
       "</div>"
      ],
      "text/plain": [
       "   longitude  latitude  housing_median_age  total_rooms  total_bedrooms  \\\n",
       "0    -122.23     37.88                41.0        880.0           129.0   \n",
       "1    -122.22     37.86                21.0       7099.0          1106.0   \n",
       "2    -122.24     37.85                52.0       1467.0           190.0   \n",
       "3    -122.25     37.85                52.0       1274.0           235.0   \n",
       "4    -122.25     37.85                52.0       1627.0           280.0   \n",
       "\n",
       "   population  households  median_income  median_house_value ocean_proximity  \n",
       "0       322.0       126.0         8.3252            452600.0        NEAR BAY  \n",
       "1      2401.0      1138.0         8.3014            358500.0        NEAR BAY  \n",
       "2       496.0       177.0         7.2574            352100.0        NEAR BAY  \n",
       "3       558.0       219.0         5.6431            341300.0        NEAR BAY  \n",
       "4       565.0       259.0         3.8462            342200.0        NEAR BAY  "
      ]
     },
     "execution_count": 4,
     "metadata": {},
     "output_type": "execute_result"
    }
   ],
   "source": [
    "df.head()"
   ]
  },
  {
   "cell_type": "code",
   "execution_count": 5,
   "id": "9140bbed",
   "metadata": {},
   "outputs": [
    {
     "name": "stdout",
     "output_type": "stream",
     "text": [
      "<class 'pandas.core.frame.DataFrame'>\n",
      "RangeIndex: 20640 entries, 0 to 20639\n",
      "Data columns (total 10 columns):\n",
      " #   Column              Non-Null Count  Dtype  \n",
      "---  ------              --------------  -----  \n",
      " 0   longitude           20640 non-null  float64\n",
      " 1   latitude            20640 non-null  float64\n",
      " 2   housing_median_age  20640 non-null  float64\n",
      " 3   total_rooms         20640 non-null  float64\n",
      " 4   total_bedrooms      20433 non-null  float64\n",
      " 5   population          20640 non-null  float64\n",
      " 6   households          20640 non-null  float64\n",
      " 7   median_income       20640 non-null  float64\n",
      " 8   median_house_value  20640 non-null  float64\n",
      " 9   ocean_proximity     20640 non-null  object \n",
      "dtypes: float64(9), object(1)\n",
      "memory usage: 1.6+ MB\n"
     ]
    }
   ],
   "source": [
    "df.info()"
   ]
  },
  {
   "cell_type": "code",
   "execution_count": 6,
   "id": "cfccb54e",
   "metadata": {},
   "outputs": [
    {
     "data": {
      "application/vnd.microsoft.datawrangler.viewer.v0+json": {
       "columns": [
        {
         "name": "index",
         "rawType": "object",
         "type": "string"
        },
        {
         "name": "longitude",
         "rawType": "float64",
         "type": "float"
        },
        {
         "name": "latitude",
         "rawType": "float64",
         "type": "float"
        },
        {
         "name": "housing_median_age",
         "rawType": "float64",
         "type": "float"
        },
        {
         "name": "total_rooms",
         "rawType": "float64",
         "type": "float"
        },
        {
         "name": "total_bedrooms",
         "rawType": "float64",
         "type": "float"
        },
        {
         "name": "population",
         "rawType": "float64",
         "type": "float"
        },
        {
         "name": "households",
         "rawType": "float64",
         "type": "float"
        },
        {
         "name": "median_income",
         "rawType": "float64",
         "type": "float"
        },
        {
         "name": "median_house_value",
         "rawType": "float64",
         "type": "float"
        }
       ],
       "ref": "36478f73-8891-43fd-aa8f-a45609bc9122",
       "rows": [
        [
         "count",
         "20640.0",
         "20640.0",
         "20640.0",
         "20640.0",
         "20433.0",
         "20640.0",
         "20640.0",
         "20640.0",
         "20640.0"
        ],
        [
         "mean",
         "-119.56970445736432",
         "35.63186143410853",
         "28.639486434108527",
         "2635.7630813953488",
         "537.8705525375618",
         "1425.4767441860465",
         "499.5396802325581",
         "3.8706710029069766",
         "206855.81690891474"
        ],
        [
         "std",
         "2.003531723502581",
         "2.1359523974571117",
         "12.585557612111637",
         "2181.615251582787",
         "421.3850700740322",
         "1132.4621217653375",
         "382.3297528316099",
         "1.8998217179452732",
         "115395.6158744132"
        ],
        [
         "min",
         "-124.35",
         "32.54",
         "1.0",
         "2.0",
         "1.0",
         "3.0",
         "1.0",
         "0.4999",
         "14999.0"
        ],
        [
         "25%",
         "-121.8",
         "33.93",
         "18.0",
         "1447.75",
         "296.0",
         "787.0",
         "280.0",
         "2.5633999999999997",
         "119600.0"
        ],
        [
         "50%",
         "-118.49",
         "34.26",
         "29.0",
         "2127.0",
         "435.0",
         "1166.0",
         "409.0",
         "3.5347999999999997",
         "179700.0"
        ],
        [
         "75%",
         "-118.01",
         "37.71",
         "37.0",
         "3148.0",
         "647.0",
         "1725.0",
         "605.0",
         "4.74325",
         "264725.0"
        ],
        [
         "max",
         "-114.31",
         "41.95",
         "52.0",
         "39320.0",
         "6445.0",
         "35682.0",
         "6082.0",
         "15.0001",
         "500001.0"
        ]
       ],
       "shape": {
        "columns": 9,
        "rows": 8
       }
      },
      "text/html": [
       "<div>\n",
       "<style scoped>\n",
       "    .dataframe tbody tr th:only-of-type {\n",
       "        vertical-align: middle;\n",
       "    }\n",
       "\n",
       "    .dataframe tbody tr th {\n",
       "        vertical-align: top;\n",
       "    }\n",
       "\n",
       "    .dataframe thead th {\n",
       "        text-align: right;\n",
       "    }\n",
       "</style>\n",
       "<table border=\"1\" class=\"dataframe\">\n",
       "  <thead>\n",
       "    <tr style=\"text-align: right;\">\n",
       "      <th></th>\n",
       "      <th>longitude</th>\n",
       "      <th>latitude</th>\n",
       "      <th>housing_median_age</th>\n",
       "      <th>total_rooms</th>\n",
       "      <th>total_bedrooms</th>\n",
       "      <th>population</th>\n",
       "      <th>households</th>\n",
       "      <th>median_income</th>\n",
       "      <th>median_house_value</th>\n",
       "    </tr>\n",
       "  </thead>\n",
       "  <tbody>\n",
       "    <tr>\n",
       "      <th>count</th>\n",
       "      <td>20640.000000</td>\n",
       "      <td>20640.000000</td>\n",
       "      <td>20640.000000</td>\n",
       "      <td>20640.000000</td>\n",
       "      <td>20433.000000</td>\n",
       "      <td>20640.000000</td>\n",
       "      <td>20640.000000</td>\n",
       "      <td>20640.000000</td>\n",
       "      <td>20640.000000</td>\n",
       "    </tr>\n",
       "    <tr>\n",
       "      <th>mean</th>\n",
       "      <td>-119.569704</td>\n",
       "      <td>35.631861</td>\n",
       "      <td>28.639486</td>\n",
       "      <td>2635.763081</td>\n",
       "      <td>537.870553</td>\n",
       "      <td>1425.476744</td>\n",
       "      <td>499.539680</td>\n",
       "      <td>3.870671</td>\n",
       "      <td>206855.816909</td>\n",
       "    </tr>\n",
       "    <tr>\n",
       "      <th>std</th>\n",
       "      <td>2.003532</td>\n",
       "      <td>2.135952</td>\n",
       "      <td>12.585558</td>\n",
       "      <td>2181.615252</td>\n",
       "      <td>421.385070</td>\n",
       "      <td>1132.462122</td>\n",
       "      <td>382.329753</td>\n",
       "      <td>1.899822</td>\n",
       "      <td>115395.615874</td>\n",
       "    </tr>\n",
       "    <tr>\n",
       "      <th>min</th>\n",
       "      <td>-124.350000</td>\n",
       "      <td>32.540000</td>\n",
       "      <td>1.000000</td>\n",
       "      <td>2.000000</td>\n",
       "      <td>1.000000</td>\n",
       "      <td>3.000000</td>\n",
       "      <td>1.000000</td>\n",
       "      <td>0.499900</td>\n",
       "      <td>14999.000000</td>\n",
       "    </tr>\n",
       "    <tr>\n",
       "      <th>25%</th>\n",
       "      <td>-121.800000</td>\n",
       "      <td>33.930000</td>\n",
       "      <td>18.000000</td>\n",
       "      <td>1447.750000</td>\n",
       "      <td>296.000000</td>\n",
       "      <td>787.000000</td>\n",
       "      <td>280.000000</td>\n",
       "      <td>2.563400</td>\n",
       "      <td>119600.000000</td>\n",
       "    </tr>\n",
       "    <tr>\n",
       "      <th>50%</th>\n",
       "      <td>-118.490000</td>\n",
       "      <td>34.260000</td>\n",
       "      <td>29.000000</td>\n",
       "      <td>2127.000000</td>\n",
       "      <td>435.000000</td>\n",
       "      <td>1166.000000</td>\n",
       "      <td>409.000000</td>\n",
       "      <td>3.534800</td>\n",
       "      <td>179700.000000</td>\n",
       "    </tr>\n",
       "    <tr>\n",
       "      <th>75%</th>\n",
       "      <td>-118.010000</td>\n",
       "      <td>37.710000</td>\n",
       "      <td>37.000000</td>\n",
       "      <td>3148.000000</td>\n",
       "      <td>647.000000</td>\n",
       "      <td>1725.000000</td>\n",
       "      <td>605.000000</td>\n",
       "      <td>4.743250</td>\n",
       "      <td>264725.000000</td>\n",
       "    </tr>\n",
       "    <tr>\n",
       "      <th>max</th>\n",
       "      <td>-114.310000</td>\n",
       "      <td>41.950000</td>\n",
       "      <td>52.000000</td>\n",
       "      <td>39320.000000</td>\n",
       "      <td>6445.000000</td>\n",
       "      <td>35682.000000</td>\n",
       "      <td>6082.000000</td>\n",
       "      <td>15.000100</td>\n",
       "      <td>500001.000000</td>\n",
       "    </tr>\n",
       "  </tbody>\n",
       "</table>\n",
       "</div>"
      ],
      "text/plain": [
       "          longitude      latitude  housing_median_age   total_rooms  \\\n",
       "count  20640.000000  20640.000000        20640.000000  20640.000000   \n",
       "mean    -119.569704     35.631861           28.639486   2635.763081   \n",
       "std        2.003532      2.135952           12.585558   2181.615252   \n",
       "min     -124.350000     32.540000            1.000000      2.000000   \n",
       "25%     -121.800000     33.930000           18.000000   1447.750000   \n",
       "50%     -118.490000     34.260000           29.000000   2127.000000   \n",
       "75%     -118.010000     37.710000           37.000000   3148.000000   \n",
       "max     -114.310000     41.950000           52.000000  39320.000000   \n",
       "\n",
       "       total_bedrooms    population    households  median_income  \\\n",
       "count    20433.000000  20640.000000  20640.000000   20640.000000   \n",
       "mean       537.870553   1425.476744    499.539680       3.870671   \n",
       "std        421.385070   1132.462122    382.329753       1.899822   \n",
       "min          1.000000      3.000000      1.000000       0.499900   \n",
       "25%        296.000000    787.000000    280.000000       2.563400   \n",
       "50%        435.000000   1166.000000    409.000000       3.534800   \n",
       "75%        647.000000   1725.000000    605.000000       4.743250   \n",
       "max       6445.000000  35682.000000   6082.000000      15.000100   \n",
       "\n",
       "       median_house_value  \n",
       "count        20640.000000  \n",
       "mean        206855.816909  \n",
       "std         115395.615874  \n",
       "min          14999.000000  \n",
       "25%         119600.000000  \n",
       "50%         179700.000000  \n",
       "75%         264725.000000  \n",
       "max         500001.000000  "
      ]
     },
     "execution_count": 6,
     "metadata": {},
     "output_type": "execute_result"
    }
   ],
   "source": [
    "df.describe()"
   ]
  },
  {
   "cell_type": "markdown",
   "id": "38be9925",
   "metadata": {},
   "source": [
    "### Visualizations"
   ]
  },
  {
   "cell_type": "code",
   "execution_count": 7,
   "id": "47e55a23",
   "metadata": {},
   "outputs": [
    {
     "data": {
      "image/png": "[encoded data removed]",
      "text/plain": [
       "<Figure size 640x480 with 1 Axes>"
      ]
     },
     "metadata": {},
     "output_type": "display_data"
    }
   ],
   "source": [
    "# Histogram of the target variable (house prices)\n",
    "sns.histplot(df['median_house_value'], bins=30, kde=True)\n",
    "plt.title('Distribution of House Prices')\n",
    "plt.show()\n"
   ]
  },
  {
   "cell_type": "code",
   "execution_count": 8,
   "id": "27eeb10a",
   "metadata": {},
   "outputs": [
    {
     "name": "stdout",
     "output_type": "stream",
     "text": [
      "longitude               0\n",
      "latitude                0\n",
      "housing_median_age      0\n",
      "total_rooms             0\n",
      "total_bedrooms        207\n",
      "population              0\n",
      "households              0\n",
      "median_income           0\n",
      "median_house_value      0\n",
      "ocean_proximity         0\n",
      "dtype: int64\n"
     ]
    }
   ],
   "source": [
    "print(df.isnull().sum())"
   ]
  },
  {
   "cell_type": "code",
   "execution_count": 9,
   "id": "13972ebc",
   "metadata": {},
   "outputs": [],
   "source": [
    "df.dropna(subset=['total_bedrooms'], inplace=True)"
   ]
  },
  {
   "cell_type": "code",
   "execution_count": 10,
   "id": "0b740011",
   "metadata": {},
   "outputs": [
    {
     "name": "stdout",
     "output_type": "stream",
     "text": [
      "longitude             0\n",
      "latitude              0\n",
      "housing_median_age    0\n",
      "total_rooms           0\n",
      "total_bedrooms        0\n",
      "population            0\n",
      "households            0\n",
      "median_income         0\n",
      "median_house_value    0\n",
      "ocean_proximity       0\n",
      "dtype: int64\n"
     ]
    }
   ],
   "source": [
    "print(df.isnull().sum())"
   ]
  },
  {
   "cell_type": "markdown",
   "id": "6f266c13",
   "metadata": {},
   "source": [
    "### Data Preprocessing"
   ]
  },
  {
   "cell_type": "code",
   "execution_count": 11,
   "id": "a5a3a93f",
   "metadata": {},
   "outputs": [],
   "source": [
    "X = df.drop('median_house_value', axis=1)  # Features\n",
    "y = df['median_house_value']               # Target variable"
   ]
  },
  {
   "cell_type": "code",
   "execution_count": 12,
   "id": "ed6e0912",
   "metadata": {},
   "outputs": [],
   "source": [
    "from sklearn.model_selection import train_test_split\n",
    "\n",
    "X_train, X_test, y_train, y_test = train_test_split(\n",
    "    X, y, test_size=0.2, random_state=42\n",
    ")"
   ]
  },
  {
   "cell_type": "code",
   "execution_count": 13,
   "id": "8c94936f",
   "metadata": {},
   "outputs": [
    {
     "data": {
      "application/vnd.microsoft.datawrangler.viewer.v0+json": {
       "columns": [
        {
         "name": "index",
         "rawType": "int64",
         "type": "integer"
        },
        {
         "name": "longitude",
         "rawType": "float64",
         "type": "float"
        },
        {
         "name": "latitude",
         "rawType": "float64",
         "type": "float"
        },
        {
         "name": "housing_median_age",
         "rawType": "float64",
         "type": "float"
        },
        {
         "name": "total_rooms",
         "rawType": "float64",
         "type": "float"
        },
        {
         "name": "total_bedrooms",
         "rawType": "float64",
         "type": "float"
        },
        {
         "name": "population",
         "rawType": "float64",
         "type": "float"
        },
        {
         "name": "households",
         "rawType": "float64",
         "type": "float"
        },
        {
         "name": "median_income",
         "rawType": "float64",
         "type": "float"
        },
        {
         "name": "ocean_proximity",
         "rawType": "object",
         "type": "string"
        }
       ],
       "ref": "35619def-2f20-464e-b5d3-b991084fd38d",
       "rows": [
        [
         "17727",
         "-121.8",
         "37.32",
         "14.0",
         "4412.0",
         "924.0",
         "2698.0",
         "891.0",
         "4.7027",
         "<1H OCEAN"
        ],
        [
         "2057",
         "-119.63",
         "36.64",
         "33.0",
         "1036.0",
         "181.0",
         "620.0",
         "174.0",
         "3.4107",
         "INLAND"
        ],
        [
         "6453",
         "-118.06",
         "34.12",
         "25.0",
         "3891.0",
         "848.0",
         "1848.0",
         "759.0",
         "3.6639",
         "INLAND"
        ],
        [
         "4619",
         "-118.31",
         "34.07",
         "28.0",
         "2362.0",
         "949.0",
         "2759.0",
         "894.0",
         "2.2364",
         "<1H OCEAN"
        ],
        [
         "15266",
         "-117.27",
         "33.04",
         "27.0",
         "1839.0",
         "392.0",
         "1302.0",
         "404.0",
         "3.55",
         "NEAR OCEAN"
        ],
        [
         "6823",
         "-118.1",
         "34.09",
         "42.0",
         "1460.0",
         "289.0",
         "829.0",
         "273.0",
         "4.875",
         "<1H OCEAN"
        ],
        [
         "8384",
         "-118.36",
         "33.95",
         "26.0",
         "3231.0",
         "1089.0",
         "3193.0",
         "1020.0",
         "2.6535",
         "<1H OCEAN"
        ],
        [
         "2758",
         "-115.49",
         "32.67",
         "29.0",
         "1523.0",
         "440.0",
         "1302.0",
         "393.0",
         "1.1311",
         "INLAND"
        ],
        [
         "18143",
         "-122.06",
         "37.34",
         "20.0",
         "3435.0",
         "593.0",
         "1293.0",
         "553.0",
         "6.7578",
         "<1H OCEAN"
        ],
        [
         "15621",
         "-122.41",
         "37.8",
         "52.0",
         "2583.0",
         "672.0",
         "1335.0",
         "613.0",
         "3.1477",
         "NEAR BAY"
        ],
        [
         "1215",
         "-120.46",
         "38.09",
         "16.0",
         "3758.0",
         "715.0",
         "1777.0",
         "615.0",
         "3.0",
         "INLAND"
        ],
        [
         "11399",
         "-117.96",
         "33.72",
         "23.0",
         "3929.0",
         "559.0",
         "1858.0",
         "538.0",
         "6.8645",
         "<1H OCEAN"
        ],
        [
         "19239",
         "-122.63",
         "38.5",
         "19.0",
         "2107.0",
         "332.0",
         "874.0",
         "341.0",
         "5.7819",
         "<1H OCEAN"
        ],
        [
         "6248",
         "-117.97",
         "34.05",
         "34.0",
         "2050.0",
         "495.0",
         "1832.0",
         "465.0",
         "2.8333",
         "<1H OCEAN"
        ],
        [
         "1096",
         "-121.8",
         "39.64",
         "25.0",
         "2202.0",
         "422.0",
         "1109.0",
         "403.0",
         "2.8306",
         "INLAND"
        ],
        [
         "3144",
         "-118.19",
         "35.05",
         "14.0",
         "2992.0",
         "573.0",
         "1631.0",
         "526.0",
         "3.7452",
         "INLAND"
        ],
        [
         "11079",
         "-117.84",
         "33.81",
         "26.0",
         "5574.0",
         "1025.0",
         "2607.0",
         "988.0",
         "4.0324",
         "<1H OCEAN"
        ],
        [
         "5153",
         "-118.26",
         "33.95",
         "44.0",
         "1513.0",
         "369.0",
         "1088.0",
         "344.0",
         "1.2969",
         "<1H OCEAN"
        ],
        [
         "14685",
         "-117.04",
         "32.83",
         "8.0",
         "2205.0",
         "348.0",
         "777.0",
         "341.0",
         "6.0266",
         "<1H OCEAN"
        ],
        [
         "1543",
         "-121.94",
         "37.73",
         "22.0",
         "6719.0",
         "1068.0",
         "2843.0",
         "994.0",
         "6.1265",
         "<1H OCEAN"
        ],
        [
         "12051",
         "-117.55",
         "33.88",
         "19.0",
         "2472.0",
         "618.0",
         "2143.0",
         "610.0",
         "2.2372",
         "INLAND"
        ],
        [
         "1419",
         "-122.05",
         "37.97",
         "16.0",
         "60.0",
         "10.0",
         "65.0",
         "19.0",
         "6.1359",
         "NEAR BAY"
        ],
        [
         "4147",
         "-118.2",
         "34.13",
         "50.0",
         "2929.0",
         "588.0",
         "1931.0",
         "574.0",
         "3.3438",
         "<1H OCEAN"
        ],
        [
         "2635",
         "-124.16",
         "40.6",
         "39.0",
         "1322.0",
         "283.0",
         "642.0",
         "292.0",
         "2.4519",
         "NEAR OCEAN"
        ],
        [
         "2658",
         "-124.0",
         "40.22",
         "16.0",
         "2088.0",
         "535.0",
         "816.0",
         "326.0",
         "1.319",
         "<1H OCEAN"
        ],
        [
         "5080",
         "-118.3",
         "33.98",
         "48.0",
         "2010.0",
         "445.0",
         "1208.0",
         "404.0",
         "1.6611",
         "<1H OCEAN"
        ],
        [
         "17089",
         "-122.22",
         "37.47",
         "35.0",
         "367.0",
         "113.0",
         "398.0",
         "109.0",
         "2.5",
         "NEAR OCEAN"
        ],
        [
         "2686",
         "-115.53",
         "32.97",
         "35.0",
         "1583.0",
         "340.0",
         "933.0",
         "318.0",
         "2.4063",
         "INLAND"
        ],
        [
         "19465",
         "-120.97",
         "37.69",
         "15.0",
         "4065.0",
         "841.0",
         "1986.0",
         "680.0",
         "3.072",
         "INLAND"
        ],
        [
         "10635",
         "-117.79",
         "33.71",
         "16.0",
         "6339.0",
         "862.0",
         "3132.0",
         "825.0",
         "7.1069",
         "<1H OCEAN"
        ],
        [
         "9555",
         "-120.65",
         "37.33",
         "25.0",
         "1731.0",
         "311.0",
         "810.0",
         "266.0",
         "4.1058",
         "INLAND"
        ],
        [
         "6700",
         "-118.12",
         "34.14",
         "52.0",
         "2337.0",
         "352.0",
         "981.0",
         "328.0",
         "5.8692",
         "<1H OCEAN"
        ],
        [
         "11304",
         "-117.94",
         "33.77",
         "32.0",
         "714.0",
         "142.0",
         "654.0",
         "154.0",
         "4.5052",
         "<1H OCEAN"
        ],
        [
         "15553",
         "-117.07",
         "33.11",
         "31.0",
         "2055.0",
         "473.0",
         "1326.0",
         "427.0",
         "3.0915",
         "<1H OCEAN"
        ],
        [
         "17601",
         "-121.9",
         "37.3",
         "52.0",
         "1575.0",
         "284.0",
         "629.0",
         "284.0",
         "5.6437",
         "<1H OCEAN"
        ],
        [
         "5646",
         "-118.29",
         "33.75",
         "37.0",
         "1319.0",
         "292.0",
         "766.0",
         "285.0",
         "2.7031",
         "NEAR OCEAN"
        ],
        [
         "12966",
         "-121.32",
         "38.7",
         "16.0",
         "2966.0",
         "578.0",
         "1365.0",
         "480.0",
         "3.2444",
         "INLAND"
        ],
        [
         "16417",
         "-121.27",
         "37.88",
         "43.0",
         "968.0",
         "249.0",
         "664.0",
         "240.0",
         "1.6458",
         "INLAND"
        ],
        [
         "18853",
         "-122.28",
         "41.38",
         "15.0",
         "5266.0",
         "1031.0",
         "2147.0",
         "885.0",
         "2.8036",
         "INLAND"
        ],
        [
         "13787",
         "-117.29",
         "35.54",
         "35.0",
         "7922.0",
         "1636.0",
         "3431.0",
         "1329.0",
         "3.4145",
         "INLAND"
        ],
        [
         "9316",
         "-122.46",
         "37.98",
         "10.0",
         "1325.0",
         "189.0",
         "427.0",
         "162.0",
         "12.0933",
         "NEAR BAY"
        ],
        [
         "1778",
         "-122.35",
         "37.94",
         "34.0",
         "1880.0",
         "459.0",
         "1358.0",
         "422.0",
         "1.6571",
         "NEAR BAY"
        ],
        [
         "7001",
         "-118.05",
         "33.96",
         "37.0",
         "2622.0",
         "652.0",
         "2778.0",
         "644.0",
         "2.9714",
         "<1H OCEAN"
        ],
        [
         "15653",
         "-122.39",
         "37.8",
         "25.0",
         "4561.0",
         "1474.0",
         "1525.0",
         "1169.0",
         "4.5581",
         "NEAR BAY"
        ],
        [
         "8298",
         "-118.14",
         "33.76",
         "44.0",
         "1633.0",
         "536.0",
         "741.0",
         "513.0",
         "3.385",
         "NEAR OCEAN"
        ],
        [
         "11228",
         "-117.94",
         "33.81",
         "24.0",
         "4602.0",
         "1131.0",
         "3003.0",
         "1014.0",
         "3.6771",
         "<1H OCEAN"
        ],
        [
         "11044",
         "-117.83",
         "33.82",
         "23.0",
         "1100.0",
         "285.0",
         "940.0",
         "267.0",
         "3.6953",
         "<1H OCEAN"
        ],
        [
         "7300",
         "-118.2",
         "33.99",
         "33.0",
         "1134.0",
         "375.0",
         "1615.0",
         "354.0",
         "2.1468",
         "<1H OCEAN"
        ],
        [
         "4416",
         "-118.26",
         "34.08",
         "50.0",
         "1791.0",
         "660.0",
         "2183.0",
         "675.0",
         "1.7945",
         "<1H OCEAN"
        ],
        [
         "18354",
         "-122.11",
         "37.36",
         "34.0",
         "1575.0",
         "183.0",
         "511.0",
         "180.0",
         "13.1867",
         "NEAR BAY"
        ]
       ],
       "shape": {
        "columns": 9,
        "rows": 16346
       }
      },
      "text/html": [
       "<div>\n",
       "<style scoped>\n",
       "    .dataframe tbody tr th:only-of-type {\n",
       "        vertical-align: middle;\n",
       "    }\n",
       "\n",
       "    .dataframe tbody tr th {\n",
       "        vertical-align: top;\n",
       "    }\n",
       "\n",
       "    .dataframe thead th {\n",
       "        text-align: right;\n",
       "    }\n",
       "</style>\n",
       "<table border=\"1\" class=\"dataframe\">\n",
       "  <thead>\n",
       "    <tr style=\"text-align: right;\">\n",
       "      <th></th>\n",
       "      <th>longitude</th>\n",
       "      <th>latitude</th>\n",
       "      <th>housing_median_age</th>\n",
       "      <th>total_rooms</th>\n",
       "      <th>total_bedrooms</th>\n",
       "      <th>population</th>\n",
       "      <th>households</th>\n",
       "      <th>median_income</th>\n",
       "      <th>ocean_proximity</th>\n",
       "    </tr>\n",
       "  </thead>\n",
       "  <tbody>\n",
       "    <tr>\n",
       "      <th>17727</th>\n",
       "      <td>-121.80</td>\n",
       "      <td>37.32</td>\n",
       "      <td>14.0</td>\n",
       "      <td>4412.0</td>\n",
       "      <td>924.0</td>\n",
       "      <td>2698.0</td>\n",
       "      <td>891.0</td>\n",
       "      <td>4.7027</td>\n",
       "      <td>&lt;1H OCEAN</td>\n",
       "    </tr>\n",
       "    <tr>\n",
       "      <th>2057</th>\n",
       "      <td>-119.63</td>\n",
       "      <td>36.64</td>\n",
       "      <td>33.0</td>\n",
       "      <td>1036.0</td>\n",
       "      <td>181.0</td>\n",
       "      <td>620.0</td>\n",
       "      <td>174.0</td>\n",
       "      <td>3.4107</td>\n",
       "      <td>INLAND</td>\n",
       "    </tr>\n",
       "    <tr>\n",
       "      <th>6453</th>\n",
       "      <td>-118.06</td>\n",
       "      <td>34.12</td>\n",
       "      <td>25.0</td>\n",
       "      <td>3891.0</td>\n",
       "      <td>848.0</td>\n",
       "      <td>1848.0</td>\n",
       "      <td>759.0</td>\n",
       "      <td>3.6639</td>\n",
       "      <td>INLAND</td>\n",
       "    </tr>\n",
       "    <tr>\n",
       "      <th>4619</th>\n",
       "      <td>-118.31</td>\n",
       "      <td>34.07</td>\n",
       "      <td>28.0</td>\n",
       "      <td>2362.0</td>\n",
       "      <td>949.0</td>\n",
       "      <td>2759.0</td>\n",
       "      <td>894.0</td>\n",
       "      <td>2.2364</td>\n",
       "      <td>&lt;1H OCEAN</td>\n",
       "    </tr>\n",
       "    <tr>\n",
       "      <th>15266</th>\n",
       "      <td>-117.27</td>\n",
       "      <td>33.04</td>\n",
       "      <td>27.0</td>\n",
       "      <td>1839.0</td>\n",
       "      <td>392.0</td>\n",
       "      <td>1302.0</td>\n",
       "      <td>404.0</td>\n",
       "      <td>3.5500</td>\n",
       "      <td>NEAR OCEAN</td>\n",
       "    </tr>\n",
       "    <tr>\n",
       "      <th>...</th>\n",
       "      <td>...</td>\n",
       "      <td>...</td>\n",
       "      <td>...</td>\n",
       "      <td>...</td>\n",
       "      <td>...</td>\n",
       "      <td>...</td>\n",
       "      <td>...</td>\n",
       "      <td>...</td>\n",
       "      <td>...</td>\n",
       "    </tr>\n",
       "    <tr>\n",
       "      <th>11397</th>\n",
       "      <td>-117.97</td>\n",
       "      <td>33.72</td>\n",
       "      <td>24.0</td>\n",
       "      <td>2991.0</td>\n",
       "      <td>500.0</td>\n",
       "      <td>1437.0</td>\n",
       "      <td>453.0</td>\n",
       "      <td>5.4286</td>\n",
       "      <td>&lt;1H OCEAN</td>\n",
       "    </tr>\n",
       "    <tr>\n",
       "      <th>12081</th>\n",
       "      <td>-117.54</td>\n",
       "      <td>33.76</td>\n",
       "      <td>5.0</td>\n",
       "      <td>5846.0</td>\n",
       "      <td>1035.0</td>\n",
       "      <td>3258.0</td>\n",
       "      <td>1001.0</td>\n",
       "      <td>4.7965</td>\n",
       "      <td>&lt;1H OCEAN</td>\n",
       "    </tr>\n",
       "    <tr>\n",
       "      <th>5447</th>\n",
       "      <td>-118.42</td>\n",
       "      <td>34.01</td>\n",
       "      <td>42.0</td>\n",
       "      <td>1594.0</td>\n",
       "      <td>369.0</td>\n",
       "      <td>952.0</td>\n",
       "      <td>362.0</td>\n",
       "      <td>3.0990</td>\n",
       "      <td>&lt;1H OCEAN</td>\n",
       "    </tr>\n",
       "    <tr>\n",
       "      <th>866</th>\n",
       "      <td>-122.04</td>\n",
       "      <td>37.57</td>\n",
       "      <td>12.0</td>\n",
       "      <td>5719.0</td>\n",
       "      <td>1064.0</td>\n",
       "      <td>3436.0</td>\n",
       "      <td>1057.0</td>\n",
       "      <td>5.2879</td>\n",
       "      <td>NEAR BAY</td>\n",
       "    </tr>\n",
       "    <tr>\n",
       "      <th>15948</th>\n",
       "      <td>-122.43</td>\n",
       "      <td>37.73</td>\n",
       "      <td>52.0</td>\n",
       "      <td>3602.0</td>\n",
       "      <td>738.0</td>\n",
       "      <td>2270.0</td>\n",
       "      <td>647.0</td>\n",
       "      <td>3.8934</td>\n",
       "      <td>NEAR BAY</td>\n",
       "    </tr>\n",
       "  </tbody>\n",
       "</table>\n",
       "<p>16346 rows × 9 columns</p>\n",
       "</div>"
      ],
      "text/plain": [
       "       longitude  latitude  housing_median_age  total_rooms  total_bedrooms  \\\n",
       "17727    -121.80     37.32                14.0       4412.0           924.0   \n",
       "2057     -119.63     36.64                33.0       1036.0           181.0   \n",
       "6453     -118.06     34.12                25.0       3891.0           848.0   \n",
       "4619     -118.31     34.07                28.0       2362.0           949.0   \n",
       "15266    -117.27     33.04                27.0       1839.0           392.0   \n",
       "...          ...       ...                 ...          ...             ...   \n",
       "11397    -117.97     33.72                24.0       2991.0           500.0   \n",
       "12081    -117.54     33.76                 5.0       5846.0          1035.0   \n",
       "5447     -118.42     34.01                42.0       1594.0           369.0   \n",
       "866      -122.04     37.57                12.0       5719.0          1064.0   \n",
       "15948    -122.43     37.73                52.0       3602.0           738.0   \n",
       "\n",
       "       population  households  median_income ocean_proximity  \n",
       "17727      2698.0       891.0         4.7027       <1H OCEAN  \n",
       "2057        620.0       174.0         3.4107          INLAND  \n",
       "6453       1848.0       759.0         3.6639          INLAND  \n",
       "4619       2759.0       894.0         2.2364       <1H OCEAN  \n",
       "15266      1302.0       404.0         3.5500      NEAR OCEAN  \n",
       "...           ...         ...            ...             ...  \n",
       "11397      1437.0       453.0         5.4286       <1H OCEAN  \n",
       "12081      3258.0      1001.0         4.7965       <1H OCEAN  \n",
       "5447        952.0       362.0         3.0990       <1H OCEAN  \n",
       "866        3436.0      1057.0         5.2879        NEAR BAY  \n",
       "15948      2270.0       647.0         3.8934        NEAR BAY  \n",
       "\n",
       "[16346 rows x 9 columns]"
      ]
     },
     "execution_count": 13,
     "metadata": {},
     "output_type": "execute_result"
    }
   ],
   "source": [
    "X_train"
   ]
  },
  {
   "cell_type": "code",
   "execution_count": 14,
   "id": "e07818bc",
   "metadata": {},
   "outputs": [
    {
     "data": {
      "application/vnd.microsoft.datawrangler.viewer.v0+json": {
       "columns": [
        {
         "name": "index",
         "rawType": "int64",
         "type": "integer"
        },
        {
         "name": "median_house_value",
         "rawType": "float64",
         "type": "float"
        }
       ],
       "ref": "2b004b2b-4cb8-4f97-85a3-3f4d36dd3f3e",
       "rows": [
        [
         "17727",
         "227600.0"
        ],
        [
         "2057",
         "110400.0"
        ],
        [
         "6453",
         "248100.0"
        ],
        [
         "4619",
         "305600.0"
        ],
        [
         "15266",
         "214600.0"
        ],
        [
         "6823",
         "227300.0"
        ],
        [
         "8384",
         "177200.0"
        ],
        [
         "2758",
         "84700.0"
        ],
        [
         "18143",
         "451400.0"
        ],
        [
         "15621",
         "500001.0"
        ],
        [
         "1215",
         "122600.0"
        ],
        [
         "11399",
         "318200.0"
        ],
        [
         "19239",
         "265600.0"
        ],
        [
         "6248",
         "155700.0"
        ],
        [
         "1096",
         "87500.0"
        ],
        [
         "3144",
         "83200.0"
        ],
        [
         "11079",
         "244900.0"
        ],
        [
         "5153",
         "94400.0"
        ],
        [
         "14685",
         "177400.0"
        ],
        [
         "1543",
         "260300.0"
        ],
        [
         "12051",
         "108800.0"
        ],
        [
         "1419",
         "250000.0"
        ],
        [
         "4147",
         "173600.0"
        ],
        [
         "2635",
         "85100.0"
        ],
        [
         "2658",
         "70700.0"
        ],
        [
         "5080",
         "95800.0"
        ],
        [
         "17089",
         "166700.0"
        ],
        [
         "2686",
         "70700.0"
        ],
        [
         "19465",
         "114300.0"
        ],
        [
         "10635",
         "313400.0"
        ],
        [
         "9555",
         "107600.0"
        ],
        [
         "6700",
         "490400.0"
        ],
        [
         "11304",
         "170800.0"
        ],
        [
         "15553",
         "139900.0"
        ],
        [
         "17601",
         "312000.0"
        ],
        [
         "5646",
         "218900.0"
        ],
        [
         "12966",
         "118400.0"
        ],
        [
         "16417",
         "83600.0"
        ],
        [
         "18853",
         "110100.0"
        ],
        [
         "13787",
         "40400.0"
        ],
        [
         "9316",
         "500001.0"
        ],
        [
         "1778",
         "105200.0"
        ],
        [
         "7001",
         "160300.0"
        ],
        [
         "15653",
         "500001.0"
        ],
        [
         "8298",
         "408300.0"
        ],
        [
         "11228",
         "172200.0"
        ],
        [
         "11044",
         "150000.0"
        ],
        [
         "7300",
         "141700.0"
        ],
        [
         "4416",
         "166700.0"
        ],
        [
         "18354",
         "500001.0"
        ]
       ],
       "shape": {
        "columns": 1,
        "rows": 16346
       }
      },
      "text/plain": [
       "17727    227600.0\n",
       "2057     110400.0\n",
       "6453     248100.0\n",
       "4619     305600.0\n",
       "15266    214600.0\n",
       "           ...   \n",
       "11397    273400.0\n",
       "12081    160800.0\n",
       "5447     335400.0\n",
       "866      231200.0\n",
       "15948    251800.0\n",
       "Name: median_house_value, Length: 16346, dtype: float64"
      ]
     },
     "execution_count": 14,
     "metadata": {},
     "output_type": "execute_result"
    }
   ],
   "source": [
    "y_train"
   ]
  },
  {
   "cell_type": "code",
   "execution_count": 15,
   "id": "e23d71c1",
   "metadata": {},
   "outputs": [
    {
     "data": {
      "application/vnd.microsoft.datawrangler.viewer.v0+json": {
       "columns": [
        {
         "name": "index",
         "rawType": "int64",
         "type": "integer"
        },
        {
         "name": "longitude",
         "rawType": "float64",
         "type": "float"
        },
        {
         "name": "latitude",
         "rawType": "float64",
         "type": "float"
        },
        {
         "name": "housing_median_age",
         "rawType": "float64",
         "type": "float"
        },
        {
         "name": "total_rooms",
         "rawType": "float64",
         "type": "float"
        },
        {
         "name": "total_bedrooms",
         "rawType": "float64",
         "type": "float"
        },
        {
         "name": "population",
         "rawType": "float64",
         "type": "float"
        },
        {
         "name": "households",
         "rawType": "float64",
         "type": "float"
        },
        {
         "name": "median_income",
         "rawType": "float64",
         "type": "float"
        },
        {
         "name": "ocean_proximity",
         "rawType": "object",
         "type": "string"
        }
       ],
       "ref": "218a5a19-6fbb-42d1-ac57-7138c0b226ab",
       "rows": [
        [
         "14416",
         "-117.24",
         "32.79",
         "20.0",
         "961.0",
         "278.0",
         "525.0",
         "254.0",
         "3.1838",
         "NEAR OCEAN"
        ],
        [
         "16383",
         "-121.29",
         "38.01",
         "2.0",
         "6403.0",
         "1116.0",
         "3327.0",
         "957.0",
         "4.4871",
         "INLAND"
        ],
        [
         "7731",
         "-118.14",
         "33.92",
         "31.0",
         "3731.0",
         "853.0",
         "2313.0",
         "801.0",
         "3.2237",
         "<1H OCEAN"
        ],
        [
         "1410",
         "-122.07",
         "37.94",
         "30.0",
         "1260.0",
         "276.0",
         "707.0",
         "221.0",
         "2.892",
         "NEAR BAY"
        ],
        [
         "1335",
         "-121.89",
         "37.99",
         "4.0",
         "2171.0",
         "597.0",
         "928.0",
         "461.0",
         "4.1016",
         "INLAND"
        ],
        [
         "16260",
         "-121.25",
         "37.97",
         "41.0",
         "855.0",
         "189.0",
         "716.0",
         "206.0",
         "2.0375",
         "INLAND"
        ],
        [
         "18011",
         "-121.98",
         "37.27",
         "25.0",
         "3075.0",
         "564.0",
         "1633.0",
         "543.0",
         "5.2528",
         "<1H OCEAN"
        ],
        [
         "10086",
         "-117.96",
         "33.94",
         "34.0",
         "2228.0",
         "399.0",
         "1159.0",
         "378.0",
         "4.8906",
         "<1H OCEAN"
        ],
        [
         "18294",
         "-122.1",
         "37.39",
         "35.0",
         "2471.0",
         "349.0",
         "881.0",
         "342.0",
         "7.6229",
         "NEAR BAY"
        ],
        [
         "18733",
         "-122.39",
         "40.53",
         "28.0",
         "1427.0",
         "304.0",
         "692.0",
         "285.0",
         "2.125",
         "INLAND"
        ],
        [
         "11707",
         "-120.06",
         "39.15",
         "22.0",
         "2213.0",
         "372.0",
         "98.0",
         "42.0",
         "1.1912",
         "INLAND"
        ],
        [
         "13618",
         "-117.27",
         "34.13",
         "36.0",
         "3337.0",
         "687.0",
         "2388.0",
         "589.0",
         "2.9628",
         "INLAND"
        ],
        [
         "10265",
         "-117.85",
         "33.9",
         "25.0",
         "1548.0",
         "256.0",
         "811.0",
         "263.0",
         "5.2037",
         "<1H OCEAN"
        ],
        [
         "1435",
         "-122.01",
         "37.98",
         "25.0",
         "1476.0",
         "336.0",
         "777.0",
         "297.0",
         "3.5179",
         "NEAR BAY"
        ],
        [
         "20117",
         "-120.39",
         "37.96",
         "10.0",
         "2554.0",
         "501.0",
         "922.0",
         "439.0",
         "2.1094",
         "INLAND"
        ],
        [
         "14645",
         "-117.19",
         "32.77",
         "30.0",
         "2747.0",
         "640.0",
         "3185.0",
         "657.0",
         "3.765",
         "NEAR OCEAN"
        ],
        [
         "8680",
         "-118.33",
         "33.88",
         "36.0",
         "1271.0",
         "346.0",
         "811.0",
         "345.0",
         "3.2417",
         "<1H OCEAN"
        ],
        [
         "8186",
         "-118.1",
         "33.79",
         "36.0",
         "3359.0",
         "596.0",
         "1522.0",
         "565.0",
         "5.1805",
         "<1H OCEAN"
        ],
        [
         "16700",
         "-120.61",
         "35.1",
         "17.0",
         "2799.0",
         "637.0",
         "2015.0",
         "592.0",
         "3.0536",
         "<1H OCEAN"
        ],
        [
         "15852",
         "-122.43",
         "37.74",
         "52.0",
         "2637.0",
         "539.0",
         "1159.0",
         "497.0",
         "3.8846",
         "NEAR BAY"
        ],
        [
         "6950",
         "-118.07",
         "33.99",
         "35.0",
         "1625.0",
         "302.0",
         "1134.0",
         "288.0",
         "4.5595",
         "<1H OCEAN"
        ],
        [
         "12935",
         "-121.28",
         "38.66",
         "17.0",
         "7741.0",
         "1401.0",
         "3153.0",
         "1331.0",
         "3.7869",
         "INLAND"
        ],
        [
         "7109",
         "-118.0",
         "33.89",
         "35.0",
         "1011.0",
         "183.0",
         "578.0",
         "171.0",
         "3.9861",
         "<1H OCEAN"
        ],
        [
         "9242",
         "-120.07",
         "36.98",
         "12.0",
         "1790.0",
         "379.0",
         "1399.0",
         "397.0",
         "2.5388",
         "INLAND"
        ],
        [
         "16713",
         "-120.69",
         "35.52",
         "26.0",
         "2758.0",
         "571.0",
         "1291.0",
         "522.0",
         "2.925",
         "<1H OCEAN"
        ],
        [
         "16864",
         "-122.4",
         "37.62",
         "44.0",
         "1619.0",
         "362.0",
         "1064.0",
         "335.0",
         "4.0238",
         "NEAR OCEAN"
        ],
        [
         "3602",
         "-118.49",
         "34.22",
         "30.0",
         "1756.0",
         "314.0",
         "899.0",
         "288.0",
         "5.0325",
         "<1H OCEAN"
        ],
        [
         "8515",
         "-118.32",
         "33.9",
         "36.0",
         "1741.0",
         "412.0",
         "1245.0",
         "423.0",
         "4.1344",
         "<1H OCEAN"
        ],
        [
         "16734",
         "-122.4",
         "37.68",
         "36.0",
         "3595.0",
         "815.0",
         "1649.0",
         "755.0",
         "3.3816",
         "NEAR BAY"
        ],
        [
         "12229",
         "-116.95",
         "33.75",
         "19.0",
         "2238.0",
         "573.0",
         "1190.0",
         "507.0",
         "2.0714",
         "INLAND"
        ],
        [
         "13707",
         "-117.21",
         "34.12",
         "32.0",
         "1677.0",
         "354.0",
         "1021.0",
         "339.0",
         "3.6853",
         "INLAND"
        ],
        [
         "8229",
         "-118.2",
         "33.77",
         "40.0",
         "2034.0",
         "899.0",
         "1257.0",
         "797.0",
         "1.2864",
         "NEAR OCEAN"
        ],
        [
         "15468",
         "-117.19",
         "33.18",
         "7.0",
         "3561.0",
         "722.0",
         "1921.0",
         "657.0",
         "4.1128",
         "<1H OCEAN"
        ],
        [
         "8779",
         "-118.32",
         "33.8",
         "39.0",
         "1415.0",
         "298.0",
         "729.0",
         "278.0",
         "3.1648",
         "<1H OCEAN"
        ],
        [
         "14573",
         "-117.21",
         "32.81",
         "27.0",
         "1318.0",
         "216.0",
         "495.0",
         "191.0",
         "5.2837",
         "NEAR OCEAN"
        ],
        [
         "986",
         "-121.85",
         "37.72",
         "43.0",
         "228.0",
         "40.0",
         "83.0",
         "42.0",
         "10.3203",
         "INLAND"
        ],
        [
         "16019",
         "-122.47",
         "37.73",
         "52.0",
         "2151.0",
         "280.0",
         "762.0",
         "274.0",
         "10.7309",
         "NEAR OCEAN"
        ],
        [
         "19680",
         "-121.63",
         "39.15",
         "27.0",
         "2991.0",
         "637.0",
         "1419.0",
         "606.0",
         "1.8849",
         "INLAND"
        ],
        [
         "14655",
         "-117.14",
         "32.8",
         "35.0",
         "1267.0",
         "212.0",
         "710.0",
         "204.0",
         "2.5368",
         "NEAR OCEAN"
        ],
        [
         "10539",
         "-117.7",
         "33.48",
         "6.0",
         "16590.0",
         "2696.0",
         "6223.0",
         "2357.0",
         "6.3088",
         "<1H OCEAN"
        ],
        [
         "13191",
         "-117.69",
         "34.08",
         "30.0",
         "4255.0",
         "773.0",
         "2129.0",
         "730.0",
         "4.5185",
         "INLAND"
        ],
        [
         "2187",
         "-120.04",
         "36.74",
         "14.0",
         "3182.0",
         "730.0",
         "2298.0",
         "721.0",
         "1.6168",
         "INLAND"
        ],
        [
         "10362",
         "-117.7",
         "33.62",
         "16.0",
         "9653.0",
         "2000.0",
         "4732.0",
         "1922.0",
         "3.7361",
         "<1H OCEAN"
        ],
        [
         "9513",
         "-123.21",
         "39.14",
         "39.0",
         "1419.0",
         "262.0",
         "661.0",
         "278.0",
         "3.0",
         "<1H OCEAN"
        ],
        [
         "18423",
         "-121.81",
         "37.25",
         "20.0",
         "3398.0",
         "771.0",
         "1231.0",
         "744.0",
         "2.0288",
         "<1H OCEAN"
        ],
        [
         "4177",
         "-118.23",
         "34.1",
         "41.0",
         "1353.0",
         "379.0",
         "1536.0",
         "416.0",
         "2.1687",
         "<1H OCEAN"
        ],
        [
         "11915",
         "-117.4",
         "33.95",
         "46.0",
         "2189.0",
         "423.0",
         "866.0",
         "389.0",
         "3.1384",
         "INLAND"
        ],
        [
         "5268",
         "-118.56",
         "34.06",
         "24.0",
         "2332.0",
         "349.0",
         "761.0",
         "325.0",
         "7.3031",
         "<1H OCEAN"
        ],
        [
         "15733",
         "-122.44",
         "37.78",
         "52.0",
         "1118.0",
         "279.0",
         "514.0",
         "284.0",
         "2.4196",
         "NEAR BAY"
        ],
        [
         "11053",
         "-117.85",
         "33.78",
         "23.0",
         "3187.0",
         "870.0",
         "1977.0",
         "852.0",
         "3.3939",
         "<1H OCEAN"
        ]
       ],
       "shape": {
        "columns": 9,
        "rows": 4087
       }
      },
      "text/html": [
       "<div>\n",
       "<style scoped>\n",
       "    .dataframe tbody tr th:only-of-type {\n",
       "        vertical-align: middle;\n",
       "    }\n",
       "\n",
       "    .dataframe tbody tr th {\n",
       "        vertical-align: top;\n",
       "    }\n",
       "\n",
       "    .dataframe thead th {\n",
       "        text-align: right;\n",
       "    }\n",
       "</style>\n",
       "<table border=\"1\" class=\"dataframe\">\n",
       "  <thead>\n",
       "    <tr style=\"text-align: right;\">\n",
       "      <th></th>\n",
       "      <th>longitude</th>\n",
       "      <th>latitude</th>\n",
       "      <th>housing_median_age</th>\n",
       "      <th>total_rooms</th>\n",
       "      <th>total_bedrooms</th>\n",
       "      <th>population</th>\n",
       "      <th>households</th>\n",
       "      <th>median_income</th>\n",
       "      <th>ocean_proximity</th>\n",
       "    </tr>\n",
       "  </thead>\n",
       "  <tbody>\n",
       "    <tr>\n",
       "      <th>14416</th>\n",
       "      <td>-117.24</td>\n",
       "      <td>32.79</td>\n",
       "      <td>20.0</td>\n",
       "      <td>961.0</td>\n",
       "      <td>278.0</td>\n",
       "      <td>525.0</td>\n",
       "      <td>254.0</td>\n",
       "      <td>3.1838</td>\n",
       "      <td>NEAR OCEAN</td>\n",
       "    </tr>\n",
       "    <tr>\n",
       "      <th>16383</th>\n",
       "      <td>-121.29</td>\n",
       "      <td>38.01</td>\n",
       "      <td>2.0</td>\n",
       "      <td>6403.0</td>\n",
       "      <td>1116.0</td>\n",
       "      <td>3327.0</td>\n",
       "      <td>957.0</td>\n",
       "      <td>4.4871</td>\n",
       "      <td>INLAND</td>\n",
       "    </tr>\n",
       "    <tr>\n",
       "      <th>7731</th>\n",
       "      <td>-118.14</td>\n",
       "      <td>33.92</td>\n",
       "      <td>31.0</td>\n",
       "      <td>3731.0</td>\n",
       "      <td>853.0</td>\n",
       "      <td>2313.0</td>\n",
       "      <td>801.0</td>\n",
       "      <td>3.2237</td>\n",
       "      <td>&lt;1H OCEAN</td>\n",
       "    </tr>\n",
       "    <tr>\n",
       "      <th>1410</th>\n",
       "      <td>-122.07</td>\n",
       "      <td>37.94</td>\n",
       "      <td>30.0</td>\n",
       "      <td>1260.0</td>\n",
       "      <td>276.0</td>\n",
       "      <td>707.0</td>\n",
       "      <td>221.0</td>\n",
       "      <td>2.8920</td>\n",
       "      <td>NEAR BAY</td>\n",
       "    </tr>\n",
       "    <tr>\n",
       "      <th>1335</th>\n",
       "      <td>-121.89</td>\n",
       "      <td>37.99</td>\n",
       "      <td>4.0</td>\n",
       "      <td>2171.0</td>\n",
       "      <td>597.0</td>\n",
       "      <td>928.0</td>\n",
       "      <td>461.0</td>\n",
       "      <td>4.1016</td>\n",
       "      <td>INLAND</td>\n",
       "    </tr>\n",
       "    <tr>\n",
       "      <th>...</th>\n",
       "      <td>...</td>\n",
       "      <td>...</td>\n",
       "      <td>...</td>\n",
       "      <td>...</td>\n",
       "      <td>...</td>\n",
       "      <td>...</td>\n",
       "      <td>...</td>\n",
       "      <td>...</td>\n",
       "      <td>...</td>\n",
       "    </tr>\n",
       "    <tr>\n",
       "      <th>8291</th>\n",
       "      <td>-118.15</td>\n",
       "      <td>33.76</td>\n",
       "      <td>36.0</td>\n",
       "      <td>2916.0</td>\n",
       "      <td>785.0</td>\n",
       "      <td>1183.0</td>\n",
       "      <td>749.0</td>\n",
       "      <td>3.5985</td>\n",
       "      <td>NEAR OCEAN</td>\n",
       "    </tr>\n",
       "    <tr>\n",
       "      <th>6274</th>\n",
       "      <td>-117.95</td>\n",
       "      <td>34.03</td>\n",
       "      <td>33.0</td>\n",
       "      <td>1782.0</td>\n",
       "      <td>394.0</td>\n",
       "      <td>1517.0</td>\n",
       "      <td>376.0</td>\n",
       "      <td>3.3389</td>\n",
       "      <td>&lt;1H OCEAN</td>\n",
       "    </tr>\n",
       "    <tr>\n",
       "      <th>2997</th>\n",
       "      <td>-119.03</td>\n",
       "      <td>35.32</td>\n",
       "      <td>12.0</td>\n",
       "      <td>2721.0</td>\n",
       "      <td>549.0</td>\n",
       "      <td>1294.0</td>\n",
       "      <td>523.0</td>\n",
       "      <td>2.5575</td>\n",
       "      <td>INLAND</td>\n",
       "    </tr>\n",
       "    <tr>\n",
       "      <th>13440</th>\n",
       "      <td>-117.42</td>\n",
       "      <td>34.08</td>\n",
       "      <td>28.0</td>\n",
       "      <td>2300.0</td>\n",
       "      <td>419.0</td>\n",
       "      <td>1312.0</td>\n",
       "      <td>444.0</td>\n",
       "      <td>3.4844</td>\n",
       "      <td>INLAND</td>\n",
       "    </tr>\n",
       "    <tr>\n",
       "      <th>14797</th>\n",
       "      <td>-117.10</td>\n",
       "      <td>32.57</td>\n",
       "      <td>14.0</td>\n",
       "      <td>5058.0</td>\n",
       "      <td>1299.0</td>\n",
       "      <td>3662.0</td>\n",
       "      <td>1193.0</td>\n",
       "      <td>2.3253</td>\n",
       "      <td>NEAR OCEAN</td>\n",
       "    </tr>\n",
       "  </tbody>\n",
       "</table>\n",
       "<p>4087 rows × 9 columns</p>\n",
       "</div>"
      ],
      "text/plain": [
       "       longitude  latitude  housing_median_age  total_rooms  total_bedrooms  \\\n",
       "14416    -117.24     32.79                20.0        961.0           278.0   \n",
       "16383    -121.29     38.01                 2.0       6403.0          1116.0   \n",
       "7731     -118.14     33.92                31.0       3731.0           853.0   \n",
       "1410     -122.07     37.94                30.0       1260.0           276.0   \n",
       "1335     -121.89     37.99                 4.0       2171.0           597.0   \n",
       "...          ...       ...                 ...          ...             ...   \n",
       "8291     -118.15     33.76                36.0       2916.0           785.0   \n",
       "6274     -117.95     34.03                33.0       1782.0           394.0   \n",
       "2997     -119.03     35.32                12.0       2721.0           549.0   \n",
       "13440    -117.42     34.08                28.0       2300.0           419.0   \n",
       "14797    -117.10     32.57                14.0       5058.0          1299.0   \n",
       "\n",
       "       population  households  median_income ocean_proximity  \n",
       "14416       525.0       254.0         3.1838      NEAR OCEAN  \n",
       "16383      3327.0       957.0         4.4871          INLAND  \n",
       "7731       2313.0       801.0         3.2237       <1H OCEAN  \n",
       "1410        707.0       221.0         2.8920        NEAR BAY  \n",
       "1335        928.0       461.0         4.1016          INLAND  \n",
       "...           ...         ...            ...             ...  \n",
       "8291       1183.0       749.0         3.5985      NEAR OCEAN  \n",
       "6274       1517.0       376.0         3.3389       <1H OCEAN  \n",
       "2997       1294.0       523.0         2.5575          INLAND  \n",
       "13440      1312.0       444.0         3.4844          INLAND  \n",
       "14797      3662.0      1193.0         2.3253      NEAR OCEAN  \n",
       "\n",
       "[4087 rows x 9 columns]"
      ]
     },
     "execution_count": 15,
     "metadata": {},
     "output_type": "execute_result"
    }
   ],
   "source": [
    "X_test"
   ]
  },
  {
   "cell_type": "code",
   "execution_count": 16,
   "id": "ac828ade",
   "metadata": {},
   "outputs": [
    {
     "data": {
      "application/vnd.microsoft.datawrangler.viewer.v0+json": {
       "columns": [
        {
         "name": "index",
         "rawType": "int64",
         "type": "integer"
        },
        {
         "name": "median_house_value",
         "rawType": "float64",
         "type": "float"
        }
       ],
       "ref": "897fabe3-cb91-4c75-a9f2-de24331bc409",
       "rows": [
        [
         "14416",
         "245800.0"
        ],
        [
         "16383",
         "137900.0"
        ],
        [
         "7731",
         "218200.0"
        ],
        [
         "1410",
         "220800.0"
        ],
        [
         "1335",
         "170500.0"
        ],
        [
         "16260",
         "75000.0"
        ],
        [
         "18011",
         "269400.0"
        ],
        [
         "10086",
         "228900.0"
        ],
        [
         "18294",
         "500001.0"
        ],
        [
         "18733",
         "80800.0"
        ],
        [
         "11707",
         "170000.0"
        ],
        [
         "13618",
         "87800.0"
        ],
        [
         "10265",
         "242200.0"
        ],
        [
         "1435",
         "165500.0"
        ],
        [
         "20117",
         "164000.0"
        ],
        [
         "14645",
         "238000.0"
        ],
        [
         "8680",
         "283300.0"
        ],
        [
         "8186",
         "249400.0"
        ],
        [
         "16700",
         "143600.0"
        ],
        [
         "15852",
         "333100.0"
        ],
        [
         "6950",
         "164900.0"
        ],
        [
         "12935",
         "216100.0"
        ],
        [
         "7109",
         "188700.0"
        ],
        [
         "9242",
         "59600.0"
        ],
        [
         "16713",
         "181400.0"
        ],
        [
         "16864",
         "224200.0"
        ],
        [
         "3602",
         "238200.0"
        ],
        [
         "8515",
         "210300.0"
        ],
        [
         "16734",
         "253400.0"
        ],
        [
         "12229",
         "85800.0"
        ],
        [
         "13707",
         "90900.0"
        ],
        [
         "8229",
         "131300.0"
        ],
        [
         "15468",
         "209700.0"
        ],
        [
         "8779",
         "244800.0"
        ],
        [
         "14573",
         "283800.0"
        ],
        [
         "986",
         "400000.0"
        ],
        [
         "16019",
         "500001.0"
        ],
        [
         "19680",
         "73500.0"
        ],
        [
         "14655",
         "169600.0"
        ],
        [
         "10539",
         "340300.0"
        ],
        [
         "13191",
         "142500.0"
        ],
        [
         "2187",
         "71800.0"
        ],
        [
         "10362",
         "197200.0"
        ],
        [
         "9513",
         "114600.0"
        ],
        [
         "18423",
         "350000.0"
        ],
        [
         "4177",
         "157000.0"
        ],
        [
         "11915",
         "111500.0"
        ],
        [
         "5268",
         "500001.0"
        ],
        [
         "15733",
         "346200.0"
        ],
        [
         "11053",
         "212100.0"
        ]
       ],
       "shape": {
        "columns": 1,
        "rows": 4087
       }
      },
      "text/plain": [
       "14416    245800.0\n",
       "16383    137900.0\n",
       "7731     218200.0\n",
       "1410     220800.0\n",
       "1335     170500.0\n",
       "           ...   \n",
       "8291     500001.0\n",
       "6274     157900.0\n",
       "2997     100200.0\n",
       "13440    127700.0\n",
       "14797    133700.0\n",
       "Name: median_house_value, Length: 4087, dtype: float64"
      ]
     },
     "execution_count": 16,
     "metadata": {},
     "output_type": "execute_result"
    }
   ],
   "source": [
    "y_test"
   ]
  },
  {
   "cell_type": "code",
   "execution_count": 17,
   "id": "99f03b59",
   "metadata": {},
   "outputs": [
    {
     "name": "stdout",
     "output_type": "stream",
     "text": [
      "(16346, 9)\n",
      "(4087, 9)\n"
     ]
    }
   ],
   "source": [
    "# Check the shape of your datasets\n",
    "print(X_train.shape)\n",
    "print(X_test.shape)"
   ]
  },
  {
   "cell_type": "code",
   "execution_count": 18,
   "id": "59a71369",
   "metadata": {},
   "outputs": [
    {
     "name": "stdout",
     "output_type": "stream",
     "text": [
      "longitude             0\n",
      "latitude              0\n",
      "housing_median_age    0\n",
      "total_rooms           0\n",
      "total_bedrooms        0\n",
      "population            0\n",
      "households            0\n",
      "median_income         0\n",
      "ocean_proximity       0\n",
      "dtype: int64\n",
      "longitude             0\n",
      "latitude              0\n",
      "housing_median_age    0\n",
      "total_rooms           0\n",
      "total_bedrooms        0\n",
      "population            0\n",
      "households            0\n",
      "median_income         0\n",
      "ocean_proximity       0\n",
      "dtype: int64\n"
     ]
    }
   ],
   "source": [
    "print(X_train.isnull().sum())\n",
    "print(X_test.isnull().sum())"
   ]
  },
  {
   "cell_type": "code",
   "execution_count": 23,
   "id": "09bbfffd",
   "metadata": {},
   "outputs": [
    {
     "data": {
      "application/vnd.microsoft.datawrangler.viewer.v0+json": {
       "columns": [
        {
         "name": "index",
         "rawType": "int64",
         "type": "integer"
        },
        {
         "name": "longitude",
         "rawType": "float64",
         "type": "float"
        },
        {
         "name": "latitude",
         "rawType": "float64",
         "type": "float"
        },
        {
         "name": "housing_median_age",
         "rawType": "float64",
         "type": "float"
        },
        {
         "name": "total_rooms",
         "rawType": "float64",
         "type": "float"
        },
        {
         "name": "total_bedrooms",
         "rawType": "float64",
         "type": "float"
        },
        {
         "name": "population",
         "rawType": "float64",
         "type": "float"
        },
        {
         "name": "households",
         "rawType": "float64",
         "type": "float"
        },
        {
         "name": "median_income",
         "rawType": "float64",
         "type": "float"
        }
       ],
       "ref": "b012a703-063b-4c25-8c0b-6124bd5873fd",
       "rows": [
        [
         "17727",
         "-121.8",
         "37.32",
         "14.0",
         "4412.0",
         "924.0",
         "2698.0",
         "891.0",
         "4.7027"
        ],
        [
         "2057",
         "-119.63",
         "36.64",
         "33.0",
         "1036.0",
         "181.0",
         "620.0",
         "174.0",
         "3.4107"
        ],
        [
         "6453",
         "-118.06",
         "34.12",
         "25.0",
         "3891.0",
         "848.0",
         "1848.0",
         "759.0",
         "3.6639"
        ],
        [
         "4619",
         "-118.31",
         "34.07",
         "28.0",
         "2362.0",
         "949.0",
         "2759.0",
         "894.0",
         "2.2364"
        ],
        [
         "15266",
         "-117.27",
         "33.04",
         "27.0",
         "1839.0",
         "392.0",
         "1302.0",
         "404.0",
         "3.55"
        ],
        [
         "6823",
         "-118.1",
         "34.09",
         "42.0",
         "1460.0",
         "289.0",
         "829.0",
         "273.0",
         "4.875"
        ],
        [
         "8384",
         "-118.36",
         "33.95",
         "26.0",
         "3231.0",
         "1089.0",
         "3193.0",
         "1020.0",
         "2.6535"
        ],
        [
         "2758",
         "-115.49",
         "32.67",
         "29.0",
         "1523.0",
         "440.0",
         "1302.0",
         "393.0",
         "1.1311"
        ],
        [
         "18143",
         "-122.06",
         "37.34",
         "20.0",
         "3435.0",
         "593.0",
         "1293.0",
         "553.0",
         "6.7578"
        ],
        [
         "15621",
         "-122.41",
         "37.8",
         "52.0",
         "2583.0",
         "672.0",
         "1335.0",
         "613.0",
         "3.1477"
        ],
        [
         "1215",
         "-120.46",
         "38.09",
         "16.0",
         "3758.0",
         "715.0",
         "1777.0",
         "615.0",
         "3.0"
        ],
        [
         "11399",
         "-117.96",
         "33.72",
         "23.0",
         "3929.0",
         "559.0",
         "1858.0",
         "538.0",
         "6.8645"
        ],
        [
         "19239",
         "-122.63",
         "38.5",
         "19.0",
         "2107.0",
         "332.0",
         "874.0",
         "341.0",
         "5.7819"
        ],
        [
         "6248",
         "-117.97",
         "34.05",
         "34.0",
         "2050.0",
         "495.0",
         "1832.0",
         "465.0",
         "2.8333"
        ],
        [
         "1096",
         "-121.8",
         "39.64",
         "25.0",
         "2202.0",
         "422.0",
         "1109.0",
         "403.0",
         "2.8306"
        ],
        [
         "3144",
         "-118.19",
         "35.05",
         "14.0",
         "2992.0",
         "573.0",
         "1631.0",
         "526.0",
         "3.7452"
        ],
        [
         "11079",
         "-117.84",
         "33.81",
         "26.0",
         "5574.0",
         "1025.0",
         "2607.0",
         "988.0",
         "4.0324"
        ],
        [
         "5153",
         "-118.26",
         "33.95",
         "44.0",
         "1513.0",
         "369.0",
         "1088.0",
         "344.0",
         "1.2969"
        ],
        [
         "14685",
         "-117.04",
         "32.83",
         "8.0",
         "2205.0",
         "348.0",
         "777.0",
         "341.0",
         "6.0266"
        ],
        [
         "1543",
         "-121.94",
         "37.73",
         "22.0",
         "6719.0",
         "1068.0",
         "2843.0",
         "994.0",
         "6.1265"
        ],
        [
         "12051",
         "-117.55",
         "33.88",
         "19.0",
         "2472.0",
         "618.0",
         "2143.0",
         "610.0",
         "2.2372"
        ],
        [
         "1419",
         "-122.05",
         "37.97",
         "16.0",
         "60.0",
         "10.0",
         "65.0",
         "19.0",
         "6.1359"
        ],
        [
         "4147",
         "-118.2",
         "34.13",
         "50.0",
         "2929.0",
         "588.0",
         "1931.0",
         "574.0",
         "3.3438"
        ],
        [
         "2635",
         "-124.16",
         "40.6",
         "39.0",
         "1322.0",
         "283.0",
         "642.0",
         "292.0",
         "2.4519"
        ],
        [
         "2658",
         "-124.0",
         "40.22",
         "16.0",
         "2088.0",
         "535.0",
         "816.0",
         "326.0",
         "1.319"
        ],
        [
         "5080",
         "-118.3",
         "33.98",
         "48.0",
         "2010.0",
         "445.0",
         "1208.0",
         "404.0",
         "1.6611"
        ],
        [
         "17089",
         "-122.22",
         "37.47",
         "35.0",
         "367.0",
         "113.0",
         "398.0",
         "109.0",
         "2.5"
        ],
        [
         "2686",
         "-115.53",
         "32.97",
         "35.0",
         "1583.0",
         "340.0",
         "933.0",
         "318.0",
         "2.4063"
        ],
        [
         "19465",
         "-120.97",
         "37.69",
         "15.0",
         "4065.0",
         "841.0",
         "1986.0",
         "680.0",
         "3.072"
        ],
        [
         "10635",
         "-117.79",
         "33.71",
         "16.0",
         "6339.0",
         "862.0",
         "3132.0",
         "825.0",
         "7.1069"
        ],
        [
         "9555",
         "-120.65",
         "37.33",
         "25.0",
         "1731.0",
         "311.0",
         "810.0",
         "266.0",
         "4.1058"
        ],
        [
         "6700",
         "-118.12",
         "34.14",
         "52.0",
         "2337.0",
         "352.0",
         "981.0",
         "328.0",
         "5.8692"
        ],
        [
         "11304",
         "-117.94",
         "33.77",
         "32.0",
         "714.0",
         "142.0",
         "654.0",
         "154.0",
         "4.5052"
        ],
        [
         "15553",
         "-117.07",
         "33.11",
         "31.0",
         "2055.0",
         "473.0",
         "1326.0",
         "427.0",
         "3.0915"
        ],
        [
         "17601",
         "-121.9",
         "37.3",
         "52.0",
         "1575.0",
         "284.0",
         "629.0",
         "284.0",
         "5.6437"
        ],
        [
         "5646",
         "-118.29",
         "33.75",
         "37.0",
         "1319.0",
         "292.0",
         "766.0",
         "285.0",
         "2.7031"
        ],
        [
         "12966",
         "-121.32",
         "38.7",
         "16.0",
         "2966.0",
         "578.0",
         "1365.0",
         "480.0",
         "3.2444"
        ],
        [
         "16417",
         "-121.27",
         "37.88",
         "43.0",
         "968.0",
         "249.0",
         "664.0",
         "240.0",
         "1.6458"
        ],
        [
         "18853",
         "-122.28",
         "41.38",
         "15.0",
         "5266.0",
         "1031.0",
         "2147.0",
         "885.0",
         "2.8036"
        ],
        [
         "13787",
         "-117.29",
         "35.54",
         "35.0",
         "7922.0",
         "1636.0",
         "3431.0",
         "1329.0",
         "3.4145"
        ],
        [
         "9316",
         "-122.46",
         "37.98",
         "10.0",
         "1325.0",
         "189.0",
         "427.0",
         "162.0",
         "12.0933"
        ],
        [
         "1778",
         "-122.35",
         "37.94",
         "34.0",
         "1880.0",
         "459.0",
         "1358.0",
         "422.0",
         "1.6571"
        ],
        [
         "7001",
         "-118.05",
         "33.96",
         "37.0",
         "2622.0",
         "652.0",
         "2778.0",
         "644.0",
         "2.9714"
        ],
        [
         "15653",
         "-122.39",
         "37.8",
         "25.0",
         "4561.0",
         "1474.0",
         "1525.0",
         "1169.0",
         "4.5581"
        ],
        [
         "8298",
         "-118.14",
         "33.76",
         "44.0",
         "1633.0",
         "536.0",
         "741.0",
         "513.0",
         "3.385"
        ],
        [
         "11228",
         "-117.94",
         "33.81",
         "24.0",
         "4602.0",
         "1131.0",
         "3003.0",
         "1014.0",
         "3.6771"
        ],
        [
         "11044",
         "-117.83",
         "33.82",
         "23.0",
         "1100.0",
         "285.0",
         "940.0",
         "267.0",
         "3.6953"
        ],
        [
         "7300",
         "-118.2",
         "33.99",
         "33.0",
         "1134.0",
         "375.0",
         "1615.0",
         "354.0",
         "2.1468"
        ],
        [
         "4416",
         "-118.26",
         "34.08",
         "50.0",
         "1791.0",
         "660.0",
         "2183.0",
         "675.0",
         "1.7945"
        ],
        [
         "18354",
         "-122.11",
         "37.36",
         "34.0",
         "1575.0",
         "183.0",
         "511.0",
         "180.0",
         "13.1867"
        ]
       ],
       "shape": {
        "columns": 8,
        "rows": 16346
       }
      },
      "text/html": [
       "<div>\n",
       "<style scoped>\n",
       "    .dataframe tbody tr th:only-of-type {\n",
       "        vertical-align: middle;\n",
       "    }\n",
       "\n",
       "    .dataframe tbody tr th {\n",
       "        vertical-align: top;\n",
       "    }\n",
       "\n",
       "    .dataframe thead th {\n",
       "        text-align: right;\n",
       "    }\n",
       "</style>\n",
       "<table border=\"1\" class=\"dataframe\">\n",
       "  <thead>\n",
       "    <tr style=\"text-align: right;\">\n",
       "      <th></th>\n",
       "      <th>longitude</th>\n",
       "      <th>latitude</th>\n",
       "      <th>housing_median_age</th>\n",
       "      <th>total_rooms</th>\n",
       "      <th>total_bedrooms</th>\n",
       "      <th>population</th>\n",
       "      <th>households</th>\n",
       "      <th>median_income</th>\n",
       "    </tr>\n",
       "  </thead>\n",
       "  <tbody>\n",
       "    <tr>\n",
       "      <th>17727</th>\n",
       "      <td>-121.80</td>\n",
       "      <td>37.32</td>\n",
       "      <td>14.0</td>\n",
       "      <td>4412.0</td>\n",
       "      <td>924.0</td>\n",
       "      <td>2698.0</td>\n",
       "      <td>891.0</td>\n",
       "      <td>4.7027</td>\n",
       "    </tr>\n",
       "    <tr>\n",
       "      <th>2057</th>\n",
       "      <td>-119.63</td>\n",
       "      <td>36.64</td>\n",
       "      <td>33.0</td>\n",
       "      <td>1036.0</td>\n",
       "      <td>181.0</td>\n",
       "      <td>620.0</td>\n",
       "      <td>174.0</td>\n",
       "      <td>3.4107</td>\n",
       "    </tr>\n",
       "    <tr>\n",
       "      <th>6453</th>\n",
       "      <td>-118.06</td>\n",
       "      <td>34.12</td>\n",
       "      <td>25.0</td>\n",
       "      <td>3891.0</td>\n",
       "      <td>848.0</td>\n",
       "      <td>1848.0</td>\n",
       "      <td>759.0</td>\n",
       "      <td>3.6639</td>\n",
       "    </tr>\n",
       "    <tr>\n",
       "      <th>4619</th>\n",
       "      <td>-118.31</td>\n",
       "      <td>34.07</td>\n",
       "      <td>28.0</td>\n",
       "      <td>2362.0</td>\n",
       "      <td>949.0</td>\n",
       "      <td>2759.0</td>\n",
       "      <td>894.0</td>\n",
       "      <td>2.2364</td>\n",
       "    </tr>\n",
       "    <tr>\n",
       "      <th>15266</th>\n",
       "      <td>-117.27</td>\n",
       "      <td>33.04</td>\n",
       "      <td>27.0</td>\n",
       "      <td>1839.0</td>\n",
       "      <td>392.0</td>\n",
       "      <td>1302.0</td>\n",
       "      <td>404.0</td>\n",
       "      <td>3.5500</td>\n",
       "    </tr>\n",
       "    <tr>\n",
       "      <th>...</th>\n",
       "      <td>...</td>\n",
       "      <td>...</td>\n",
       "      <td>...</td>\n",
       "      <td>...</td>\n",
       "      <td>...</td>\n",
       "      <td>...</td>\n",
       "      <td>...</td>\n",
       "      <td>...</td>\n",
       "    </tr>\n",
       "    <tr>\n",
       "      <th>11397</th>\n",
       "      <td>-117.97</td>\n",
       "      <td>33.72</td>\n",
       "      <td>24.0</td>\n",
       "      <td>2991.0</td>\n",
       "      <td>500.0</td>\n",
       "      <td>1437.0</td>\n",
       "      <td>453.0</td>\n",
       "      <td>5.4286</td>\n",
       "    </tr>\n",
       "    <tr>\n",
       "      <th>12081</th>\n",
       "      <td>-117.54</td>\n",
       "      <td>33.76</td>\n",
       "      <td>5.0</td>\n",
       "      <td>5846.0</td>\n",
       "      <td>1035.0</td>\n",
       "      <td>3258.0</td>\n",
       "      <td>1001.0</td>\n",
       "      <td>4.7965</td>\n",
       "    </tr>\n",
       "    <tr>\n",
       "      <th>5447</th>\n",
       "      <td>-118.42</td>\n",
       "      <td>34.01</td>\n",
       "      <td>42.0</td>\n",
       "      <td>1594.0</td>\n",
       "      <td>369.0</td>\n",
       "      <td>952.0</td>\n",
       "      <td>362.0</td>\n",
       "      <td>3.0990</td>\n",
       "    </tr>\n",
       "    <tr>\n",
       "      <th>866</th>\n",
       "      <td>-122.04</td>\n",
       "      <td>37.57</td>\n",
       "      <td>12.0</td>\n",
       "      <td>5719.0</td>\n",
       "      <td>1064.0</td>\n",
       "      <td>3436.0</td>\n",
       "      <td>1057.0</td>\n",
       "      <td>5.2879</td>\n",
       "    </tr>\n",
       "    <tr>\n",
       "      <th>15948</th>\n",
       "      <td>-122.43</td>\n",
       "      <td>37.73</td>\n",
       "      <td>52.0</td>\n",
       "      <td>3602.0</td>\n",
       "      <td>738.0</td>\n",
       "      <td>2270.0</td>\n",
       "      <td>647.0</td>\n",
       "      <td>3.8934</td>\n",
       "    </tr>\n",
       "  </tbody>\n",
       "</table>\n",
       "<p>16346 rows × 8 columns</p>\n",
       "</div>"
      ],
      "text/plain": [
       "       longitude  latitude  housing_median_age  total_rooms  total_bedrooms  \\\n",
       "17727    -121.80     37.32                14.0       4412.0           924.0   \n",
       "2057     -119.63     36.64                33.0       1036.0           181.0   \n",
       "6453     -118.06     34.12                25.0       3891.0           848.0   \n",
       "4619     -118.31     34.07                28.0       2362.0           949.0   \n",
       "15266    -117.27     33.04                27.0       1839.0           392.0   \n",
       "...          ...       ...                 ...          ...             ...   \n",
       "11397    -117.97     33.72                24.0       2991.0           500.0   \n",
       "12081    -117.54     33.76                 5.0       5846.0          1035.0   \n",
       "5447     -118.42     34.01                42.0       1594.0           369.0   \n",
       "866      -122.04     37.57                12.0       5719.0          1064.0   \n",
       "15948    -122.43     37.73                52.0       3602.0           738.0   \n",
       "\n",
       "       population  households  median_income  \n",
       "17727      2698.0       891.0         4.7027  \n",
       "2057        620.0       174.0         3.4107  \n",
       "6453       1848.0       759.0         3.6639  \n",
       "4619       2759.0       894.0         2.2364  \n",
       "15266      1302.0       404.0         3.5500  \n",
       "...           ...         ...            ...  \n",
       "11397      1437.0       453.0         5.4286  \n",
       "12081      3258.0      1001.0         4.7965  \n",
       "5447        952.0       362.0         3.0990  \n",
       "866        3436.0      1057.0         5.2879  \n",
       "15948      2270.0       647.0         3.8934  \n",
       "\n",
       "[16346 rows x 8 columns]"
      ]
     },
     "execution_count": 23,
     "metadata": {},
     "output_type": "execute_result"
    }
   ],
   "source": [
    "# Assuming your DataFrame is named 'df'\n",
    "X_train = X_train.iloc[:, :-1]  # Keeps all rows and all columns except the last one\n",
    "X_train"
   ]
  },
  {
   "cell_type": "code",
   "execution_count": 26,
   "id": "cbdd6cef",
   "metadata": {},
   "outputs": [
    {
     "data": {
      "application/vnd.microsoft.datawrangler.viewer.v0+json": {
       "columns": [
        {
         "name": "index",
         "rawType": "int64",
         "type": "integer"
        },
        {
         "name": "longitude",
         "rawType": "float64",
         "type": "float"
        },
        {
         "name": "latitude",
         "rawType": "float64",
         "type": "float"
        },
        {
         "name": "housing_median_age",
         "rawType": "float64",
         "type": "float"
        },
        {
         "name": "total_rooms",
         "rawType": "float64",
         "type": "float"
        },
        {
         "name": "total_bedrooms",
         "rawType": "float64",
         "type": "float"
        },
        {
         "name": "population",
         "rawType": "float64",
         "type": "float"
        },
        {
         "name": "households",
         "rawType": "float64",
         "type": "float"
        },
        {
         "name": "median_income",
         "rawType": "float64",
         "type": "float"
        }
       ],
       "ref": "eb6acccc-28d9-4d8c-a5cd-cc6f6adfef40",
       "rows": [
        [
         "14416",
         "-117.24",
         "32.79",
         "20.0",
         "961.0",
         "278.0",
         "525.0",
         "254.0",
         "3.1838"
        ],
        [
         "16383",
         "-121.29",
         "38.01",
         "2.0",
         "6403.0",
         "1116.0",
         "3327.0",
         "957.0",
         "4.4871"
        ],
        [
         "7731",
         "-118.14",
         "33.92",
         "31.0",
         "3731.0",
         "853.0",
         "2313.0",
         "801.0",
         "3.2237"
        ],
        [
         "1410",
         "-122.07",
         "37.94",
         "30.0",
         "1260.0",
         "276.0",
         "707.0",
         "221.0",
         "2.892"
        ],
        [
         "1335",
         "-121.89",
         "37.99",
         "4.0",
         "2171.0",
         "597.0",
         "928.0",
         "461.0",
         "4.1016"
        ],
        [
         "16260",
         "-121.25",
         "37.97",
         "41.0",
         "855.0",
         "189.0",
         "716.0",
         "206.0",
         "2.0375"
        ],
        [
         "18011",
         "-121.98",
         "37.27",
         "25.0",
         "3075.0",
         "564.0",
         "1633.0",
         "543.0",
         "5.2528"
        ],
        [
         "10086",
         "-117.96",
         "33.94",
         "34.0",
         "2228.0",
         "399.0",
         "1159.0",
         "378.0",
         "4.8906"
        ],
        [
         "18294",
         "-122.1",
         "37.39",
         "35.0",
         "2471.0",
         "349.0",
         "881.0",
         "342.0",
         "7.6229"
        ],
        [
         "18733",
         "-122.39",
         "40.53",
         "28.0",
         "1427.0",
         "304.0",
         "692.0",
         "285.0",
         "2.125"
        ],
        [
         "11707",
         "-120.06",
         "39.15",
         "22.0",
         "2213.0",
         "372.0",
         "98.0",
         "42.0",
         "1.1912"
        ],
        [
         "13618",
         "-117.27",
         "34.13",
         "36.0",
         "3337.0",
         "687.0",
         "2388.0",
         "589.0",
         "2.9628"
        ],
        [
         "10265",
         "-117.85",
         "33.9",
         "25.0",
         "1548.0",
         "256.0",
         "811.0",
         "263.0",
         "5.2037"
        ],
        [
         "1435",
         "-122.01",
         "37.98",
         "25.0",
         "1476.0",
         "336.0",
         "777.0",
         "297.0",
         "3.5179"
        ],
        [
         "20117",
         "-120.39",
         "37.96",
         "10.0",
         "2554.0",
         "501.0",
         "922.0",
         "439.0",
         "2.1094"
        ],
        [
         "14645",
         "-117.19",
         "32.77",
         "30.0",
         "2747.0",
         "640.0",
         "3185.0",
         "657.0",
         "3.765"
        ],
        [
         "8680",
         "-118.33",
         "33.88",
         "36.0",
         "1271.0",
         "346.0",
         "811.0",
         "345.0",
         "3.2417"
        ],
        [
         "8186",
         "-118.1",
         "33.79",
         "36.0",
         "3359.0",
         "596.0",
         "1522.0",
         "565.0",
         "5.1805"
        ],
        [
         "16700",
         "-120.61",
         "35.1",
         "17.0",
         "2799.0",
         "637.0",
         "2015.0",
         "592.0",
         "3.0536"
        ],
        [
         "15852",
         "-122.43",
         "37.74",
         "52.0",
         "2637.0",
         "539.0",
         "1159.0",
         "497.0",
         "3.8846"
        ],
        [
         "6950",
         "-118.07",
         "33.99",
         "35.0",
         "1625.0",
         "302.0",
         "1134.0",
         "288.0",
         "4.5595"
        ],
        [
         "12935",
         "-121.28",
         "38.66",
         "17.0",
         "7741.0",
         "1401.0",
         "3153.0",
         "1331.0",
         "3.7869"
        ],
        [
         "7109",
         "-118.0",
         "33.89",
         "35.0",
         "1011.0",
         "183.0",
         "578.0",
         "171.0",
         "3.9861"
        ],
        [
         "9242",
         "-120.07",
         "36.98",
         "12.0",
         "1790.0",
         "379.0",
         "1399.0",
         "397.0",
         "2.5388"
        ],
        [
         "16713",
         "-120.69",
         "35.52",
         "26.0",
         "2758.0",
         "571.0",
         "1291.0",
         "522.0",
         "2.925"
        ],
        [
         "16864",
         "-122.4",
         "37.62",
         "44.0",
         "1619.0",
         "362.0",
         "1064.0",
         "335.0",
         "4.0238"
        ],
        [
         "3602",
         "-118.49",
         "34.22",
         "30.0",
         "1756.0",
         "314.0",
         "899.0",
         "288.0",
         "5.0325"
        ],
        [
         "8515",
         "-118.32",
         "33.9",
         "36.0",
         "1741.0",
         "412.0",
         "1245.0",
         "423.0",
         "4.1344"
        ],
        [
         "16734",
         "-122.4",
         "37.68",
         "36.0",
         "3595.0",
         "815.0",
         "1649.0",
         "755.0",
         "3.3816"
        ],
        [
         "12229",
         "-116.95",
         "33.75",
         "19.0",
         "2238.0",
         "573.0",
         "1190.0",
         "507.0",
         "2.0714"
        ],
        [
         "13707",
         "-117.21",
         "34.12",
         "32.0",
         "1677.0",
         "354.0",
         "1021.0",
         "339.0",
         "3.6853"
        ],
        [
         "8229",
         "-118.2",
         "33.77",
         "40.0",
         "2034.0",
         "899.0",
         "1257.0",
         "797.0",
         "1.2864"
        ],
        [
         "15468",
         "-117.19",
         "33.18",
         "7.0",
         "3561.0",
         "722.0",
         "1921.0",
         "657.0",
         "4.1128"
        ],
        [
         "8779",
         "-118.32",
         "33.8",
         "39.0",
         "1415.0",
         "298.0",
         "729.0",
         "278.0",
         "3.1648"
        ],
        [
         "14573",
         "-117.21",
         "32.81",
         "27.0",
         "1318.0",
         "216.0",
         "495.0",
         "191.0",
         "5.2837"
        ],
        [
         "986",
         "-121.85",
         "37.72",
         "43.0",
         "228.0",
         "40.0",
         "83.0",
         "42.0",
         "10.3203"
        ],
        [
         "16019",
         "-122.47",
         "37.73",
         "52.0",
         "2151.0",
         "280.0",
         "762.0",
         "274.0",
         "10.7309"
        ],
        [
         "19680",
         "-121.63",
         "39.15",
         "27.0",
         "2991.0",
         "637.0",
         "1419.0",
         "606.0",
         "1.8849"
        ],
        [
         "14655",
         "-117.14",
         "32.8",
         "35.0",
         "1267.0",
         "212.0",
         "710.0",
         "204.0",
         "2.5368"
        ],
        [
         "10539",
         "-117.7",
         "33.48",
         "6.0",
         "16590.0",
         "2696.0",
         "6223.0",
         "2357.0",
         "6.3088"
        ],
        [
         "13191",
         "-117.69",
         "34.08",
         "30.0",
         "4255.0",
         "773.0",
         "2129.0",
         "730.0",
         "4.5185"
        ],
        [
         "2187",
         "-120.04",
         "36.74",
         "14.0",
         "3182.0",
         "730.0",
         "2298.0",
         "721.0",
         "1.6168"
        ],
        [
         "10362",
         "-117.7",
         "33.62",
         "16.0",
         "9653.0",
         "2000.0",
         "4732.0",
         "1922.0",
         "3.7361"
        ],
        [
         "9513",
         "-123.21",
         "39.14",
         "39.0",
         "1419.0",
         "262.0",
         "661.0",
         "278.0",
         "3.0"
        ],
        [
         "18423",
         "-121.81",
         "37.25",
         "20.0",
         "3398.0",
         "771.0",
         "1231.0",
         "744.0",
         "2.0288"
        ],
        [
         "4177",
         "-118.23",
         "34.1",
         "41.0",
         "1353.0",
         "379.0",
         "1536.0",
         "416.0",
         "2.1687"
        ],
        [
         "11915",
         "-117.4",
         "33.95",
         "46.0",
         "2189.0",
         "423.0",
         "866.0",
         "389.0",
         "3.1384"
        ],
        [
         "5268",
         "-118.56",
         "34.06",
         "24.0",
         "2332.0",
         "349.0",
         "761.0",
         "325.0",
         "7.3031"
        ],
        [
         "15733",
         "-122.44",
         "37.78",
         "52.0",
         "1118.0",
         "279.0",
         "514.0",
         "284.0",
         "2.4196"
        ],
        [
         "11053",
         "-117.85",
         "33.78",
         "23.0",
         "3187.0",
         "870.0",
         "1977.0",
         "852.0",
         "3.3939"
        ]
       ],
       "shape": {
        "columns": 8,
        "rows": 4087
       }
      },
      "text/html": [
       "<div>\n",
       "<style scoped>\n",
       "    .dataframe tbody tr th:only-of-type {\n",
       "        vertical-align: middle;\n",
       "    }\n",
       "\n",
       "    .dataframe tbody tr th {\n",
       "        vertical-align: top;\n",
       "    }\n",
       "\n",
       "    .dataframe thead th {\n",
       "        text-align: right;\n",
       "    }\n",
       "</style>\n",
       "<table border=\"1\" class=\"dataframe\">\n",
       "  <thead>\n",
       "    <tr style=\"text-align: right;\">\n",
       "      <th></th>\n",
       "      <th>longitude</th>\n",
       "      <th>latitude</th>\n",
       "      <th>housing_median_age</th>\n",
       "      <th>total_rooms</th>\n",
       "      <th>total_bedrooms</th>\n",
       "      <th>population</th>\n",
       "      <th>households</th>\n",
       "      <th>median_income</th>\n",
       "    </tr>\n",
       "  </thead>\n",
       "  <tbody>\n",
       "    <tr>\n",
       "      <th>14416</th>\n",
       "      <td>-117.24</td>\n",
       "      <td>32.79</td>\n",
       "      <td>20.0</td>\n",
       "      <td>961.0</td>\n",
       "      <td>278.0</td>\n",
       "      <td>525.0</td>\n",
       "      <td>254.0</td>\n",
       "      <td>3.1838</td>\n",
       "    </tr>\n",
       "    <tr>\n",
       "      <th>16383</th>\n",
       "      <td>-121.29</td>\n",
       "      <td>38.01</td>\n",
       "      <td>2.0</td>\n",
       "      <td>6403.0</td>\n",
       "      <td>1116.0</td>\n",
       "      <td>3327.0</td>\n",
       "      <td>957.0</td>\n",
       "      <td>4.4871</td>\n",
       "    </tr>\n",
       "    <tr>\n",
       "      <th>7731</th>\n",
       "      <td>-118.14</td>\n",
       "      <td>33.92</td>\n",
       "      <td>31.0</td>\n",
       "      <td>3731.0</td>\n",
       "      <td>853.0</td>\n",
       "      <td>2313.0</td>\n",
       "      <td>801.0</td>\n",
       "      <td>3.2237</td>\n",
       "    </tr>\n",
       "    <tr>\n",
       "      <th>1410</th>\n",
       "      <td>-122.07</td>\n",
       "      <td>37.94</td>\n",
       "      <td>30.0</td>\n",
       "      <td>1260.0</td>\n",
       "      <td>276.0</td>\n",
       "      <td>707.0</td>\n",
       "      <td>221.0</td>\n",
       "      <td>2.8920</td>\n",
       "    </tr>\n",
       "    <tr>\n",
       "      <th>1335</th>\n",
       "      <td>-121.89</td>\n",
       "      <td>37.99</td>\n",
       "      <td>4.0</td>\n",
       "      <td>2171.0</td>\n",
       "      <td>597.0</td>\n",
       "      <td>928.0</td>\n",
       "      <td>461.0</td>\n",
       "      <td>4.1016</td>\n",
       "    </tr>\n",
       "    <tr>\n",
       "      <th>...</th>\n",
       "      <td>...</td>\n",
       "      <td>...</td>\n",
       "      <td>...</td>\n",
       "      <td>...</td>\n",
       "      <td>...</td>\n",
       "      <td>...</td>\n",
       "      <td>...</td>\n",
       "      <td>...</td>\n",
       "    </tr>\n",
       "    <tr>\n",
       "      <th>8291</th>\n",
       "      <td>-118.15</td>\n",
       "      <td>33.76</td>\n",
       "      <td>36.0</td>\n",
       "      <td>2916.0</td>\n",
       "      <td>785.0</td>\n",
       "      <td>1183.0</td>\n",
       "      <td>749.0</td>\n",
       "      <td>3.5985</td>\n",
       "    </tr>\n",
       "    <tr>\n",
       "      <th>6274</th>\n",
       "      <td>-117.95</td>\n",
       "      <td>34.03</td>\n",
       "      <td>33.0</td>\n",
       "      <td>1782.0</td>\n",
       "      <td>394.0</td>\n",
       "      <td>1517.0</td>\n",
       "      <td>376.0</td>\n",
       "      <td>3.3389</td>\n",
       "    </tr>\n",
       "    <tr>\n",
       "      <th>2997</th>\n",
       "      <td>-119.03</td>\n",
       "      <td>35.32</td>\n",
       "      <td>12.0</td>\n",
       "      <td>2721.0</td>\n",
       "      <td>549.0</td>\n",
       "      <td>1294.0</td>\n",
       "      <td>523.0</td>\n",
       "      <td>2.5575</td>\n",
       "    </tr>\n",
       "    <tr>\n",
       "      <th>13440</th>\n",
       "      <td>-117.42</td>\n",
       "      <td>34.08</td>\n",
       "      <td>28.0</td>\n",
       "      <td>2300.0</td>\n",
       "      <td>419.0</td>\n",
       "      <td>1312.0</td>\n",
       "      <td>444.0</td>\n",
       "      <td>3.4844</td>\n",
       "    </tr>\n",
       "    <tr>\n",
       "      <th>14797</th>\n",
       "      <td>-117.10</td>\n",
       "      <td>32.57</td>\n",
       "      <td>14.0</td>\n",
       "      <td>5058.0</td>\n",
       "      <td>1299.0</td>\n",
       "      <td>3662.0</td>\n",
       "      <td>1193.0</td>\n",
       "      <td>2.3253</td>\n",
       "    </tr>\n",
       "  </tbody>\n",
       "</table>\n",
       "<p>4087 rows × 8 columns</p>\n",
       "</div>"
      ],
      "text/plain": [
       "       longitude  latitude  housing_median_age  total_rooms  total_bedrooms  \\\n",
       "14416    -117.24     32.79                20.0        961.0           278.0   \n",
       "16383    -121.29     38.01                 2.0       6403.0          1116.0   \n",
       "7731     -118.14     33.92                31.0       3731.0           853.0   \n",
       "1410     -122.07     37.94                30.0       1260.0           276.0   \n",
       "1335     -121.89     37.99                 4.0       2171.0           597.0   \n",
       "...          ...       ...                 ...          ...             ...   \n",
       "8291     -118.15     33.76                36.0       2916.0           785.0   \n",
       "6274     -117.95     34.03                33.0       1782.0           394.0   \n",
       "2997     -119.03     35.32                12.0       2721.0           549.0   \n",
       "13440    -117.42     34.08                28.0       2300.0           419.0   \n",
       "14797    -117.10     32.57                14.0       5058.0          1299.0   \n",
       "\n",
       "       population  households  median_income  \n",
       "14416       525.0       254.0         3.1838  \n",
       "16383      3327.0       957.0         4.4871  \n",
       "7731       2313.0       801.0         3.2237  \n",
       "1410        707.0       221.0         2.8920  \n",
       "1335        928.0       461.0         4.1016  \n",
       "...           ...         ...            ...  \n",
       "8291       1183.0       749.0         3.5985  \n",
       "6274       1517.0       376.0         3.3389  \n",
       "2997       1294.0       523.0         2.5575  \n",
       "13440      1312.0       444.0         3.4844  \n",
       "14797      3662.0      1193.0         2.3253  \n",
       "\n",
       "[4087 rows x 8 columns]"
      ]
     },
     "execution_count": 26,
     "metadata": {},
     "output_type": "execute_result"
    }
   ],
   "source": [
    "X_test=X_test.iloc[:, :-1]\n",
    "X_test"
   ]
  },
  {
   "cell_type": "code",
   "execution_count": 27,
   "id": "60b7fe69",
   "metadata": {},
   "outputs": [],
   "source": [
    "from sklearn.preprocessing import StandardScaler\n",
    "import numpy as np\n",
    "\n",
    "# Ensure proper data format\n",
    "X_train = np.array(X_train).astype(float)\n",
    "X_test = np.array(X_test).astype(float)\n",
    "\n",
    "# Handle missing values\n",
    "X_train = np.nan_to_num(X_train)\n",
    "X_test = np.nan_to_num(X_test)\n",
    "\n",
    "# Reshape if needed\n",
    "if X_train.ndim == 1:\n",
    "    X_train = X_train.reshape(-1, 1)\n",
    "    X_test = X_test.reshape(-1, 1)\n",
    "\n",
    "# Scale the data\n",
    "scaler = StandardScaler()\n",
    "X_train_scaled = scaler.fit_transform(X_train)\n",
    "X_test_scaled = scaler.transform(X_test)  # Use same scaling as training data"
   ]
  },
  {
   "cell_type": "code",
   "execution_count": 29,
   "id": "1269ded3",
   "metadata": {},
   "outputs": [
    {
     "data": {
      "text/plain": [
       "array([[ 1.16685161, -1.33446397, -0.68499309, ..., -0.79301917,\n",
       "        -0.64450418, -0.36195011],\n",
       "       [-0.85225636,  1.10922431, -2.11620113, ...,  1.68807122,\n",
       "         1.21535362,  0.32480451],\n",
       "       [ 0.71816095, -0.80546631,  0.18963404, ...,  0.79020339,\n",
       "         0.8026398 , -0.34092539],\n",
       "       ...,\n",
       "       [ 0.27445574, -0.15007099, -1.32108555, ..., -0.1120918 ,\n",
       "         0.0671626 , -0.69196961],\n",
       "       [ 1.07711348, -0.73056399, -0.04890063, ..., -0.09615331,\n",
       "        -0.14183991, -0.20355339],\n",
       "       [ 1.23664793, -1.43745466, -1.16206244, ...,  1.98470408,\n",
       "         1.83971555, -0.81432396]])"
      ]
     },
     "execution_count": 29,
     "metadata": {},
     "output_type": "execute_result"
    }
   ],
   "source": [
    "X_test_scaled"
   ]
  },
  {
   "cell_type": "code",
   "execution_count": 30,
   "id": "67c9651c",
   "metadata": {},
   "outputs": [
    {
     "data": {
      "text/plain": [
       "array([[ 1.16685161, -1.33446397, -0.68499309, ..., -0.79301917,\n",
       "        -0.64450418, -0.36195011],\n",
       "       [-0.85225636,  1.10922431, -2.11620113, ...,  1.68807122,\n",
       "         1.21535362,  0.32480451],\n",
       "       [ 0.71816095, -0.80546631,  0.18963404, ...,  0.79020339,\n",
       "         0.8026398 , -0.34092539],\n",
       "       ...,\n",
       "       [ 0.27445574, -0.15007099, -1.32108555, ..., -0.1120918 ,\n",
       "         0.0671626 , -0.69196961],\n",
       "       [ 1.07711348, -0.73056399, -0.04890063, ..., -0.09615331,\n",
       "        -0.14183991, -0.20355339],\n",
       "       [ 1.23664793, -1.43745466, -1.16206244, ...,  1.98470408,\n",
       "         1.83971555, -0.81432396]])"
      ]
     },
     "execution_count": 30,
     "metadata": {},
     "output_type": "execute_result"
    }
   ],
   "source": [
    "X_test_scaled"
   ]
  },
  {
   "cell_type": "markdown",
   "id": "462d0ba3",
   "metadata": {},
   "source": [
    "### Model Training"
   ]
  },
  {
   "cell_type": "code",
   "execution_count": 32,
   "id": "85904924",
   "metadata": {},
   "outputs": [
    {
     "name": "stdout",
     "output_type": "stream",
     "text": [
      "\n",
      "Random Forest Results:\n",
      "MSE: 2408714743.77\n",
      "R² Score: 0.82\n"
     ]
    }
   ],
   "source": [
    "from sklearn.ensemble import RandomForestRegressor\n",
    "from sklearn.metrics import mean_squared_error, r2_score\n",
    "\n",
    "rf = RandomForestRegressor(n_estimators=100, random_state=42)\n",
    "rf.fit(X_train_scaled, y_train)\n",
    "\n",
    "# Predictions\n",
    "y_pred_rf = rf.predict(X_test_scaled)\n",
    "\n",
    "# Evaluate\n",
    "print(\"\\nRandom Forest Results:\")\n",
    "print(f\"MSE: {mean_squared_error(y_test, y_pred_rf):.2f}\")\n",
    "print(f\"R² Score: {r2_score(y_test, y_pred_rf):.2f}\")"
   ]
  },
  {
   "cell_type": "markdown",
   "id": "debee031",
   "metadata": {},
   "source": [
    "## Model improvement"
   ]
  },
  {
   "cell_type": "markdown",
   "id": "77b5eaa2",
   "metadata": {},
   "source": [
    "### Hyperparameter Tuning"
   ]
  },
  {
   "cell_type": "code",
   "execution_count": 33,
   "id": "84735e14",
   "metadata": {},
   "outputs": [
    {
     "name": "stdout",
     "output_type": "stream",
     "text": [
      "\n",
      "Tuned Random Forest Results:\n",
      "Best Params: {'max_depth': None, 'n_estimators': 200}\n",
      "MSE: 2421587250.88\n",
      "R² Score: 0.82\n"
     ]
    }
   ],
   "source": [
    "from sklearn.model_selection import GridSearchCV\n",
    "\n",
    "param_grid = {\n",
    "    'n_estimators': [50, 100, 200],\n",
    "    'max_depth': [None, 10, 20],\n",
    "}\n",
    "\n",
    "grid_search = GridSearchCV(RandomForestRegressor(random_state=42), param_grid, cv=5)\n",
    "grid_search.fit(X_train_scaled, y_train)\n",
    "\n",
    "best_model = grid_search.best_estimator_\n",
    "y_pred_best = best_model.predict(X_test_scaled)\n",
    "\n",
    "print(\"\\nTuned Random Forest Results:\")\n",
    "print(f\"Best Params: {grid_search.best_params_}\")\n",
    "print(f\"MSE: {mean_squared_error(y_test, y_pred_best):.2f}\")\n",
    "print(f\"R² Score: {r2_score(y_test, y_pred_best):.2f}\")"
   ]
  },
  {
   "cell_type": "markdown",
   "id": "a03582f1",
   "metadata": {},
   "source": [
    "### Feature importance"
   ]
  },
  {
   "cell_type": "code",
   "execution_count": 36,
   "id": "d0d085f0",
   "metadata": {},
   "outputs": [
    {
     "name": "stdout",
     "output_type": "stream",
     "text": [
      "Number of features: 9\n",
      "Importance scores: 8\n"
     ]
    }
   ],
   "source": [
    "print(\"Number of features:\", len(X.columns))\n",
    "print(\"Importance scores:\", len(best_model.feature_importances_))"
   ]
  },
  {
   "cell_type": "code",
   "execution_count": 48,
   "id": "364c1daf",
   "metadata": {},
   "outputs": [],
   "source": [
    "X = X.drop('ocean_proximity', axis=1)  # Replace with your target column name\n",
    "assert len(X.columns) == len(best_model.feature_importances_)"
   ]
  },
  {
   "cell_type": "code",
   "execution_count": 49,
   "id": "b0d670ec",
   "metadata": {},
   "outputs": [
    {
     "data": {
      "application/vnd.microsoft.datawrangler.viewer.v0+json": {
       "columns": [
        {
         "name": "index",
         "rawType": "int64",
         "type": "integer"
        },
        {
         "name": "longitude",
         "rawType": "float64",
         "type": "float"
        },
        {
         "name": "latitude",
         "rawType": "float64",
         "type": "float"
        },
        {
         "name": "housing_median_age",
         "rawType": "float64",
         "type": "float"
        },
        {
         "name": "total_rooms",
         "rawType": "float64",
         "type": "float"
        },
        {
         "name": "total_bedrooms",
         "rawType": "float64",
         "type": "float"
        },
        {
         "name": "population",
         "rawType": "float64",
         "type": "float"
        },
        {
         "name": "households",
         "rawType": "float64",
         "type": "float"
        },
        {
         "name": "median_income",
         "rawType": "float64",
         "type": "float"
        }
       ],
       "ref": "92c6b835-83ae-4017-aee2-10874d821c6f",
       "rows": [
        [
         "0",
         "-122.23",
         "37.88",
         "41.0",
         "880.0",
         "129.0",
         "322.0",
         "126.0",
         "8.3252"
        ],
        [
         "1",
         "-122.22",
         "37.86",
         "21.0",
         "7099.0",
         "1106.0",
         "2401.0",
         "1138.0",
         "8.3014"
        ],
        [
         "2",
         "-122.24",
         "37.85",
         "52.0",
         "1467.0",
         "190.0",
         "496.0",
         "177.0",
         "7.2574"
        ],
        [
         "3",
         "-122.25",
         "37.85",
         "52.0",
         "1274.0",
         "235.0",
         "558.0",
         "219.0",
         "5.6431"
        ],
        [
         "4",
         "-122.25",
         "37.85",
         "52.0",
         "1627.0",
         "280.0",
         "565.0",
         "259.0",
         "3.8462"
        ],
        [
         "5",
         "-122.25",
         "37.85",
         "52.0",
         "919.0",
         "213.0",
         "413.0",
         "193.0",
         "4.0368"
        ],
        [
         "6",
         "-122.25",
         "37.84",
         "52.0",
         "2535.0",
         "489.0",
         "1094.0",
         "514.0",
         "3.6591"
        ],
        [
         "7",
         "-122.25",
         "37.84",
         "52.0",
         "3104.0",
         "687.0",
         "1157.0",
         "647.0",
         "3.12"
        ],
        [
         "8",
         "-122.26",
         "37.84",
         "42.0",
         "2555.0",
         "665.0",
         "1206.0",
         "595.0",
         "2.0804"
        ],
        [
         "9",
         "-122.25",
         "37.84",
         "52.0",
         "3549.0",
         "707.0",
         "1551.0",
         "714.0",
         "3.6912"
        ],
        [
         "10",
         "-122.26",
         "37.85",
         "52.0",
         "2202.0",
         "434.0",
         "910.0",
         "402.0",
         "3.2031"
        ],
        [
         "11",
         "-122.26",
         "37.85",
         "52.0",
         "3503.0",
         "752.0",
         "1504.0",
         "734.0",
         "3.2705"
        ],
        [
         "12",
         "-122.26",
         "37.85",
         "52.0",
         "2491.0",
         "474.0",
         "1098.0",
         "468.0",
         "3.075"
        ],
        [
         "13",
         "-122.26",
         "37.84",
         "52.0",
         "696.0",
         "191.0",
         "345.0",
         "174.0",
         "2.6736"
        ],
        [
         "14",
         "-122.26",
         "37.85",
         "52.0",
         "2643.0",
         "626.0",
         "1212.0",
         "620.0",
         "1.9167"
        ],
        [
         "15",
         "-122.26",
         "37.85",
         "50.0",
         "1120.0",
         "283.0",
         "697.0",
         "264.0",
         "2.125"
        ],
        [
         "16",
         "-122.27",
         "37.85",
         "52.0",
         "1966.0",
         "347.0",
         "793.0",
         "331.0",
         "2.775"
        ],
        [
         "17",
         "-122.27",
         "37.85",
         "52.0",
         "1228.0",
         "293.0",
         "648.0",
         "303.0",
         "2.1202"
        ],
        [
         "18",
         "-122.26",
         "37.84",
         "50.0",
         "2239.0",
         "455.0",
         "990.0",
         "419.0",
         "1.9911"
        ],
        [
         "19",
         "-122.27",
         "37.84",
         "52.0",
         "1503.0",
         "298.0",
         "690.0",
         "275.0",
         "2.6033"
        ],
        [
         "20",
         "-122.27",
         "37.85",
         "40.0",
         "751.0",
         "184.0",
         "409.0",
         "166.0",
         "1.3578"
        ],
        [
         "21",
         "-122.27",
         "37.85",
         "42.0",
         "1639.0",
         "367.0",
         "929.0",
         "366.0",
         "1.7135"
        ],
        [
         "22",
         "-122.27",
         "37.84",
         "52.0",
         "2436.0",
         "541.0",
         "1015.0",
         "478.0",
         "1.725"
        ],
        [
         "23",
         "-122.27",
         "37.84",
         "52.0",
         "1688.0",
         "337.0",
         "853.0",
         "325.0",
         "2.1806"
        ],
        [
         "24",
         "-122.27",
         "37.84",
         "52.0",
         "2224.0",
         "437.0",
         "1006.0",
         "422.0",
         "2.6"
        ],
        [
         "25",
         "-122.28",
         "37.85",
         "41.0",
         "535.0",
         "123.0",
         "317.0",
         "119.0",
         "2.4038"
        ],
        [
         "26",
         "-122.28",
         "37.85",
         "49.0",
         "1130.0",
         "244.0",
         "607.0",
         "239.0",
         "2.4597"
        ],
        [
         "27",
         "-122.28",
         "37.85",
         "52.0",
         "1898.0",
         "421.0",
         "1102.0",
         "397.0",
         "1.808"
        ],
        [
         "28",
         "-122.28",
         "37.84",
         "50.0",
         "2082.0",
         "492.0",
         "1131.0",
         "473.0",
         "1.6424"
        ],
        [
         "29",
         "-122.28",
         "37.84",
         "52.0",
         "729.0",
         "160.0",
         "395.0",
         "155.0",
         "1.6875"
        ],
        [
         "30",
         "-122.28",
         "37.84",
         "49.0",
         "1916.0",
         "447.0",
         "863.0",
         "378.0",
         "1.9274"
        ],
        [
         "31",
         "-122.28",
         "37.84",
         "52.0",
         "2153.0",
         "481.0",
         "1168.0",
         "441.0",
         "1.9615"
        ],
        [
         "32",
         "-122.27",
         "37.84",
         "48.0",
         "1922.0",
         "409.0",
         "1026.0",
         "335.0",
         "1.7969"
        ],
        [
         "33",
         "-122.27",
         "37.83",
         "49.0",
         "1655.0",
         "366.0",
         "754.0",
         "329.0",
         "1.375"
        ],
        [
         "34",
         "-122.27",
         "37.83",
         "51.0",
         "2665.0",
         "574.0",
         "1258.0",
         "536.0",
         "2.7303"
        ],
        [
         "35",
         "-122.27",
         "37.83",
         "49.0",
         "1215.0",
         "282.0",
         "570.0",
         "264.0",
         "1.4861"
        ],
        [
         "36",
         "-122.27",
         "37.83",
         "48.0",
         "1798.0",
         "432.0",
         "987.0",
         "374.0",
         "1.0972"
        ],
        [
         "37",
         "-122.28",
         "37.83",
         "52.0",
         "1511.0",
         "390.0",
         "901.0",
         "403.0",
         "1.4103"
        ],
        [
         "38",
         "-122.26",
         "37.83",
         "52.0",
         "1470.0",
         "330.0",
         "689.0",
         "309.0",
         "3.48"
        ],
        [
         "39",
         "-122.26",
         "37.83",
         "52.0",
         "2432.0",
         "715.0",
         "1377.0",
         "696.0",
         "2.5898"
        ],
        [
         "40",
         "-122.26",
         "37.83",
         "52.0",
         "1665.0",
         "419.0",
         "946.0",
         "395.0",
         "2.0978"
        ],
        [
         "41",
         "-122.26",
         "37.83",
         "51.0",
         "936.0",
         "311.0",
         "517.0",
         "249.0",
         "1.2852"
        ],
        [
         "42",
         "-122.26",
         "37.84",
         "49.0",
         "713.0",
         "202.0",
         "462.0",
         "189.0",
         "1.025"
        ],
        [
         "43",
         "-122.26",
         "37.84",
         "52.0",
         "950.0",
         "202.0",
         "467.0",
         "198.0",
         "3.9643"
        ],
        [
         "44",
         "-122.26",
         "37.83",
         "52.0",
         "1443.0",
         "311.0",
         "660.0",
         "292.0",
         "3.0125"
        ],
        [
         "45",
         "-122.26",
         "37.83",
         "52.0",
         "1656.0",
         "420.0",
         "718.0",
         "382.0",
         "2.6768"
        ],
        [
         "46",
         "-122.26",
         "37.83",
         "50.0",
         "1125.0",
         "322.0",
         "616.0",
         "304.0",
         "2.026"
        ],
        [
         "47",
         "-122.27",
         "37.82",
         "43.0",
         "1007.0",
         "312.0",
         "558.0",
         "253.0",
         "1.7348"
        ],
        [
         "48",
         "-122.26",
         "37.82",
         "40.0",
         "624.0",
         "195.0",
         "423.0",
         "160.0",
         "0.9506"
        ],
        [
         "49",
         "-122.27",
         "37.82",
         "40.0",
         "946.0",
         "375.0",
         "700.0",
         "352.0",
         "1.775"
        ]
       ],
       "shape": {
        "columns": 8,
        "rows": 20433
       }
      },
      "text/html": [
       "<div>\n",
       "<style scoped>\n",
       "    .dataframe tbody tr th:only-of-type {\n",
       "        vertical-align: middle;\n",
       "    }\n",
       "\n",
       "    .dataframe tbody tr th {\n",
       "        vertical-align: top;\n",
       "    }\n",
       "\n",
       "    .dataframe thead th {\n",
       "        text-align: right;\n",
       "    }\n",
       "</style>\n",
       "<table border=\"1\" class=\"dataframe\">\n",
       "  <thead>\n",
       "    <tr style=\"text-align: right;\">\n",
       "      <th></th>\n",
       "      <th>longitude</th>\n",
       "      <th>latitude</th>\n",
       "      <th>housing_median_age</th>\n",
       "      <th>total_rooms</th>\n",
       "      <th>total_bedrooms</th>\n",
       "      <th>population</th>\n",
       "      <th>households</th>\n",
       "      <th>median_income</th>\n",
       "    </tr>\n",
       "  </thead>\n",
       "  <tbody>\n",
       "    <tr>\n",
       "      <th>0</th>\n",
       "      <td>-122.23</td>\n",
       "      <td>37.88</td>\n",
       "      <td>41.0</td>\n",
       "      <td>880.0</td>\n",
       "      <td>129.0</td>\n",
       "      <td>322.0</td>\n",
       "      <td>126.0</td>\n",
       "      <td>8.3252</td>\n",
       "    </tr>\n",
       "    <tr>\n",
       "      <th>1</th>\n",
       "      <td>-122.22</td>\n",
       "      <td>37.86</td>\n",
       "      <td>21.0</td>\n",
       "      <td>7099.0</td>\n",
       "      <td>1106.0</td>\n",
       "      <td>2401.0</td>\n",
       "      <td>1138.0</td>\n",
       "      <td>8.3014</td>\n",
       "    </tr>\n",
       "    <tr>\n",
       "      <th>2</th>\n",
       "      <td>-122.24</td>\n",
       "      <td>37.85</td>\n",
       "      <td>52.0</td>\n",
       "      <td>1467.0</td>\n",
       "      <td>190.0</td>\n",
       "      <td>496.0</td>\n",
       "      <td>177.0</td>\n",
       "      <td>7.2574</td>\n",
       "    </tr>\n",
       "    <tr>\n",
       "      <th>3</th>\n",
       "      <td>-122.25</td>\n",
       "      <td>37.85</td>\n",
       "      <td>52.0</td>\n",
       "      <td>1274.0</td>\n",
       "      <td>235.0</td>\n",
       "      <td>558.0</td>\n",
       "      <td>219.0</td>\n",
       "      <td>5.6431</td>\n",
       "    </tr>\n",
       "    <tr>\n",
       "      <th>4</th>\n",
       "      <td>-122.25</td>\n",
       "      <td>37.85</td>\n",
       "      <td>52.0</td>\n",
       "      <td>1627.0</td>\n",
       "      <td>280.0</td>\n",
       "      <td>565.0</td>\n",
       "      <td>259.0</td>\n",
       "      <td>3.8462</td>\n",
       "    </tr>\n",
       "    <tr>\n",
       "      <th>...</th>\n",
       "      <td>...</td>\n",
       "      <td>...</td>\n",
       "      <td>...</td>\n",
       "      <td>...</td>\n",
       "      <td>...</td>\n",
       "      <td>...</td>\n",
       "      <td>...</td>\n",
       "      <td>...</td>\n",
       "    </tr>\n",
       "    <tr>\n",
       "      <th>20635</th>\n",
       "      <td>-121.09</td>\n",
       "      <td>39.48</td>\n",
       "      <td>25.0</td>\n",
       "      <td>1665.0</td>\n",
       "      <td>374.0</td>\n",
       "      <td>845.0</td>\n",
       "      <td>330.0</td>\n",
       "      <td>1.5603</td>\n",
       "    </tr>\n",
       "    <tr>\n",
       "      <th>20636</th>\n",
       "      <td>-121.21</td>\n",
       "      <td>39.49</td>\n",
       "      <td>18.0</td>\n",
       "      <td>697.0</td>\n",
       "      <td>150.0</td>\n",
       "      <td>356.0</td>\n",
       "      <td>114.0</td>\n",
       "      <td>2.5568</td>\n",
       "    </tr>\n",
       "    <tr>\n",
       "      <th>20637</th>\n",
       "      <td>-121.22</td>\n",
       "      <td>39.43</td>\n",
       "      <td>17.0</td>\n",
       "      <td>2254.0</td>\n",
       "      <td>485.0</td>\n",
       "      <td>1007.0</td>\n",
       "      <td>433.0</td>\n",
       "      <td>1.7000</td>\n",
       "    </tr>\n",
       "    <tr>\n",
       "      <th>20638</th>\n",
       "      <td>-121.32</td>\n",
       "      <td>39.43</td>\n",
       "      <td>18.0</td>\n",
       "      <td>1860.0</td>\n",
       "      <td>409.0</td>\n",
       "      <td>741.0</td>\n",
       "      <td>349.0</td>\n",
       "      <td>1.8672</td>\n",
       "    </tr>\n",
       "    <tr>\n",
       "      <th>20639</th>\n",
       "      <td>-121.24</td>\n",
       "      <td>39.37</td>\n",
       "      <td>16.0</td>\n",
       "      <td>2785.0</td>\n",
       "      <td>616.0</td>\n",
       "      <td>1387.0</td>\n",
       "      <td>530.0</td>\n",
       "      <td>2.3886</td>\n",
       "    </tr>\n",
       "  </tbody>\n",
       "</table>\n",
       "<p>20433 rows × 8 columns</p>\n",
       "</div>"
      ],
      "text/plain": [
       "       longitude  latitude  housing_median_age  total_rooms  total_bedrooms  \\\n",
       "0        -122.23     37.88                41.0        880.0           129.0   \n",
       "1        -122.22     37.86                21.0       7099.0          1106.0   \n",
       "2        -122.24     37.85                52.0       1467.0           190.0   \n",
       "3        -122.25     37.85                52.0       1274.0           235.0   \n",
       "4        -122.25     37.85                52.0       1627.0           280.0   \n",
       "...          ...       ...                 ...          ...             ...   \n",
       "20635    -121.09     39.48                25.0       1665.0           374.0   \n",
       "20636    -121.21     39.49                18.0        697.0           150.0   \n",
       "20637    -121.22     39.43                17.0       2254.0           485.0   \n",
       "20638    -121.32     39.43                18.0       1860.0           409.0   \n",
       "20639    -121.24     39.37                16.0       2785.0           616.0   \n",
       "\n",
       "       population  households  median_income  \n",
       "0           322.0       126.0         8.3252  \n",
       "1          2401.0      1138.0         8.3014  \n",
       "2           496.0       177.0         7.2574  \n",
       "3           558.0       219.0         5.6431  \n",
       "4           565.0       259.0         3.8462  \n",
       "...           ...         ...            ...  \n",
       "20635       845.0       330.0         1.5603  \n",
       "20636       356.0       114.0         2.5568  \n",
       "20637      1007.0       433.0         1.7000  \n",
       "20638       741.0       349.0         1.8672  \n",
       "20639      1387.0       530.0         2.3886  \n",
       "\n",
       "[20433 rows x 8 columns]"
      ]
     },
     "execution_count": 49,
     "metadata": {},
     "output_type": "execute_result"
    }
   ],
   "source": [
    "X"
   ]
  },
  {
   "cell_type": "code",
   "execution_count": 51,
   "id": "67149c2d",
   "metadata": {},
   "outputs": [
    {
     "data": {
      "image/png": "[encoded data removed]",
      "text/plain": [
       "<Figure size 640x480 with 1 Axes>"
      ]
     },
     "metadata": {},
     "output_type": "display_data"
    }
   ],
   "source": [
    "# Plot feature importance (for Random Forest)\n",
    "feature_importance = pd.DataFrame({\n",
    "    'Feature': X.columns,\n",
    "    'Importance': best_model.feature_importances_\n",
    "}).sort_values('Importance', ascending=False)\n",
    "\n",
    "sns.barplot(x='Importance', y='Feature', data=feature_importance)\n",
    "plt.title('Feature Importance')\n",
    "plt.show()"
   ]
  },
  {
   "cell_type": "markdown",
   "id": "0e128e0b",
   "metadata": {},
   "source": [
    "### Model Deployment"
   ]
  },
  {
   "cell_type": "code",
   "execution_count": 52,
   "id": "2c620ec3",
   "metadata": {},
   "outputs": [
    {
     "data": {
      "text/plain": [
       "['scaler.pkl']"
      ]
     },
     "execution_count": 52,
     "metadata": {},
     "output_type": "execute_result"
    }
   ],
   "source": [
    "import joblib\n",
    "\n",
    "joblib.dump(best_model, 'house_price_predictor.pkl')\n",
    "joblib.dump(scaler, 'scaler.pkl')  # Save the scaler too!"
   ]
  },
  {
   "cell_type": "markdown",
   "id": "7afa3e8b",
   "metadata": {},
   "source": [
    "### Example: Predict for a new house\n"
   ]
  },
  {
   "cell_type": "code",
   "execution_count": 61,
   "id": "336cd6f8",
   "metadata": {},
   "outputs": [
    {
     "name": "stdout",
     "output_type": "stream",
     "text": [
      "Predicted Price: $6637950000.00\n"
     ]
    }
   ],
   "source": [
    "new_data = [[0.1, 10, 5, 2, 10, 2.5, 10.6, -118.5]] \n",
    "new_data_scaled = scaler.transform(new_data)\n",
    "predicted_price = best_model.predict(new_data_scaled)\n",
    "print(f\"Predicted Price: ${predicted_price[0] * 100000:.2f}\")"
   ]
  }
 ],
 "metadata": {
  "kernelspec": {
   "display_name": "base",
   "language": "python",
   "name": "python3"
  },
  "language_info": {
   "codemirror_mode": {
    "name": "ipython",
    "version": 3
   },
   "file_extension": ".py",
   "mimetype": "text/x-python",
   "name": "python",
   "nbconvert_exporter": "python",
   "pygments_lexer": "ipython3",
   "version": "3.12.7"
  }
 },
 "nbformat": 4,
 "nbformat_minor": 5
}
